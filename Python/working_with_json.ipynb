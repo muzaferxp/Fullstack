{
 "metadata": {
  "language_info": {
   "codemirror_mode": {
    "name": "ipython",
    "version": 3
   },
   "file_extension": ".py",
   "mimetype": "text/x-python",
   "name": "python",
   "nbconvert_exporter": "python",
   "pygments_lexer": "ipython3",
   "version": "3.9.0-final"
  },
  "orig_nbformat": 2,
  "kernelspec": {
   "name": "python3",
   "display_name": "Python 3.9.0 64-bit",
   "metadata": {
    "interpreter": {
     "hash": "c7192cbc191bcb1e11eb24b740d9d922bf147b1b4b27d90b14d37bd8ac6ff684"
    }
   }
  }
 },
 "nbformat": 4,
 "nbformat_minor": 2,
 "cells": [
  {
   "cell_type": "code",
   "execution_count": 6,
   "metadata": {},
   "outputs": [],
   "source": [
    "#=======OPEN===============\n",
    "#=======READ DATA=========\n",
    "import json\n",
    "file_path = \"C:/Users/perso/Desktop/WORKSHOP/FullStack development/Python/blogs.json\"\n",
    "\n",
    "#=====.load(file) \n",
    "file = open(file_path)\n",
    "\n",
    "filedata = json.load(file)\n",
    "\n",
    "file.close()\n"
   ]
  },
  {
   "cell_type": "code",
   "execution_count": 11,
   "metadata": {},
   "outputs": [],
   "source": [
    "filedata[\"new-blog\"] = \"something\""
   ]
  },
  {
   "cell_type": "code",
   "execution_count": 8,
   "metadata": {},
   "outputs": [
    {
     "output_type": "execute_result",
     "data": {
      "text/plain": [
       "{'title': 'hyderabad-government-clears-setting-up-spv-for-pharma-city',\n",
       " 'subtitle': 'The Industries Department has approved the incorporation of ‘Hyderabad Pharma City Limited’ (HPCL) as the Special Purpose Vehicle (SPV) company for carrying out the activities of development of Pharma City on the outskirts of the State Capital.',\n",
       " 'date': '07-Dec-2020',\n",
       " 'image': 'hndu-newspaper-logo.png',\n",
       " 'tags': 'hyderabad,pharma city',\n",
       " 'content': '<html>\\r\\n<head>\\r\\n\\t<title></title>\\r\\n</head>\\r\\n<body data-gr-ext-installed=\"\" data-new-gr-c-s-check-loaded=\"14.984.0\" data-new-gr-c-s-loaded=\"14.984.0\">\\r\\n<p>HYDERABAD: The Industries Department has approved the incorporation of &lsquo;Hyderabad Pharma City Limited&rsquo; (HPCL) as the Special Purpose Vehicle (SPV) company for carrying out the activities of development of Pharma City on the outskirts of the State Capital.</p>\\r\\n\\r\\n<p>The decision is expected to speed up work pertaining to establishment of Hyderabad Pharma City by Telangana State Industrial Infrastructure Corporation Ltd (TSIIC) in Ranga Reddy district with state-of-the-art infrastructure, treatment support facilities and other utilities as per the guidelines of Department of Industrial Policy and Promotion (DIPP) of the Government of India.</p>\\r\\n\\r\\n<p>The State Government has given permission for setting up of Hyderabad Pharma City in June this year in an extent of 12,500 acres in Ranga Reddy district for development on the lines of NIMZ. Later, the Centre has also given in-principle approval for setting up of NIMZ in Ranga Reddy in the form of Hyderabad Pharma City.</p>\\r\\n\\r\\n<p>It may be noted here that the Centre has already given in-principle approval for setting up of National Investment &amp; Manufacturing Zone (NIMZ) in Sangareddy district subject to condition that the State Government shall form a Special Purpose Vehicle (SPV) as envisaged in the Policy.</p>\\r\\n</body>\\r\\n</html>\\r\\n'}"
      ]
     },
     "metadata": {},
     "execution_count": 8
    }
   ],
   "source": [
    "filedata[\"hyderabad-government-clears-setting-up-spv-for-pharma-city\"]"
   ]
  },
  {
   "cell_type": "code",
   "execution_count": 23,
   "metadata": {},
   "outputs": [],
   "source": [
    "#=========WRITE===========\n",
    "\n",
    "#=========.dumps(data)\n",
    "def write_data(file_path,filedata):\n",
    "    file = open(file_path, \"w\")\n",
    "\n",
    "\n",
    "    #====indentation\n",
    "    file.write(json.dumps(filedata, indent=4))\n",
    "\n",
    "    file.close()"
   ]
  },
  {
   "cell_type": "code",
   "execution_count": 19,
   "metadata": {},
   "outputs": [],
   "source": [
    "# filedata.pop(\"new-blog\")"
   ]
  },
  {
   "cell_type": "code",
   "execution_count": 24,
   "metadata": {},
   "outputs": [],
   "source": [
    "write_data(file_path,filedata)"
   ]
  },
  {
   "cell_type": "code",
   "execution_count": 28,
   "metadata": {},
   "outputs": [
    {
     "output_type": "error",
     "ename": "SyntaxError",
     "evalue": "invalid syntax (<ipython-input-28-65589d643193>, line 6)",
     "traceback": [
      "\u001b[1;36m  File \u001b[1;32m\"<ipython-input-28-65589d643193>\"\u001b[1;36m, line \u001b[1;32m6\u001b[0m\n\u001b[1;33m    if \"pharma city\" in tagsor \"magicbricks\" in tags:\u001b[0m\n\u001b[1;37m                               ^\u001b[0m\n\u001b[1;31mSyntaxError\u001b[0m\u001b[1;31m:\u001b[0m invalid syntax\n"
     ]
    }
   ],
   "source": [
    "#=============search in json data\n",
    "tags = [\"pharma city\",\"magicbricks\"]\n",
    "\n",
    "for x in filedata:\n",
    "    tags = filedata[x][\"tags\"]\n",
    "    if \"pharma city\" in tags or \"magicbricks\" in tags:\n",
    "        print(tags)"
   ]
  },
  {
   "cell_type": "code",
   "execution_count": null,
   "metadata": {},
   "outputs": [],
   "source": []
  }
 ]
}