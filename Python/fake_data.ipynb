{
 "metadata": {
  "language_info": {
   "codemirror_mode": {
    "name": "ipython",
    "version": 3
   },
   "file_extension": ".py",
   "mimetype": "text/x-python",
   "name": "python",
   "nbconvert_exporter": "python",
   "pygments_lexer": "ipython3",
   "version": "3.9.0-final"
  },
  "orig_nbformat": 2,
  "kernelspec": {
   "name": "python3",
   "display_name": "Python 3.9.0 64-bit",
   "metadata": {
    "interpreter": {
     "hash": "c7192cbc191bcb1e11eb24b740d9d922bf147b1b4b27d90b14d37bd8ac6ff684"
    }
   }
  }
 },
 "nbformat": 4,
 "nbformat_minor": 2,
 "cells": [
  {
   "cell_type": "code",
   "execution_count": 10,
   "metadata": {},
   "outputs": [
    {
     "output_type": "execute_result",
     "data": {
      "text/plain": [
       "'Nicole Cobb'"
      ]
     },
     "metadata": {},
     "execution_count": 10
    }
   ],
   "source": [
    "from faker import Faker\n",
    "import random\n",
    "fake = Faker()\n",
    "\"\"\"\n",
    " \"Adam\": {\n",
    "            \"Skils\": [\n",
    "                \"Python-Flask\",\n",
    "                \"Python\"\n",
    "            ],\n",
    "            \"hours\": 4\n",
    "        },\n",
    "\"\"\"\n",
    "\n",
    "fake.name()"
   ]
  },
  {
   "cell_type": "code",
   "execution_count": 33,
   "metadata": {},
   "outputs": [],
   "source": [
    "skills_data = [\"Python\", \"Skills\", \"Html\", \"CSS\", \"JavaScript\", \"flask\", \"Mysql\", \"Docker\", \"Ajax\", \"PHP\", \"JAVA\", \"Andriod\", \"Digital art\", \"Digital marketing\", \"Data scientist\"]"
   ]
  },
  {
   "cell_type": "code",
   "execution_count": 37,
   "metadata": {},
   "outputs": [],
   "source": [
    "n = random.randrange(0,len(skills_data))"
   ]
  },
  {
   "cell_type": "code",
   "execution_count": 38,
   "metadata": {},
   "outputs": [
    {
     "output_type": "execute_result",
     "data": {
      "text/plain": [
       "2"
      ]
     },
     "metadata": {},
     "execution_count": 38
    }
   ],
   "source": []
  },
  {
   "cell_type": "code",
   "execution_count": 77,
   "metadata": {},
   "outputs": [],
   "source": [
    "\n",
    "def get_random_skills():\n",
    "    skills = []\n",
    "    for x in range(0,random.randrange(1,8)): \n",
    "        n = random.randrange(0,len(skills_data))\n",
    "        if skills_data[n] not in skills:\n",
    "            skills.append(skills_data[n])\n",
    "\n",
    "    return skills"
   ]
  },
  {
   "cell_type": "code",
   "execution_count": 78,
   "metadata": {},
   "outputs": [
    {
     "output_type": "execute_result",
     "data": {
      "text/plain": [
       "['CSS', 'Digital marketing', 'Andriod', 'Skills', 'Python', 'Digital art']"
      ]
     },
     "metadata": {},
     "execution_count": 78
    }
   ],
   "source": [
    "get_random_skills()"
   ]
  },
  {
   "cell_type": "code",
   "execution_count": 92,
   "metadata": {},
   "outputs": [],
   "source": [
    "import json\n",
    "\n",
    "def random_data(n):\n",
    "    obj = {}\n",
    "    for x in range(0,n):\n",
    "        obj[fake.name()] = {\"skills\" : get_random_skills() , \"hours\" : 8 }\n",
    "    return obj\n"
   ]
  },
  {
   "cell_type": "code",
   "execution_count": 96,
   "metadata": {},
   "outputs": [],
   "source": [
    "emp_data = random_data(50)"
   ]
  },
  {
   "cell_type": "code",
   "execution_count": 94,
   "metadata": {},
   "outputs": [],
   "source": [
    "def get_emp_data():\n",
    "    f = open(\"E:/Data/WORKSHOP/FullStack development/Flask-Project/static/emp_data.json\")\n",
    "    data = json.load(f)\n",
    "    f.close()\n",
    "    return data"
   ]
  },
  {
   "cell_type": "code",
   "execution_count": 98,
   "metadata": {},
   "outputs": [],
   "source": [
    "main_data  = get_emp_data()\n",
    "\n",
    "main_data[\"emp_data\"] = emp_data"
   ]
  },
  {
   "cell_type": "code",
   "execution_count": 100,
   "metadata": {},
   "outputs": [],
   "source": [
    "f = open(\"E:/Data/WORKSHOP/FullStack development/Flask-Project/static/emp_data.json\", \"w\")\n",
    "f.write(json.dumps(main_data, indent=4))\n",
    "f.close()"
   ]
  },
  {
   "cell_type": "code",
   "execution_count": 102,
   "metadata": {},
   "outputs": [
    {
     "output_type": "stream",
     "name": "stdout",
     "text": [
      "Logged in!\n"
     ]
    }
   ],
   "source": [
    "creds = {\n",
    "    \"user1\" : \"passw1\",\n",
    "    \"user2\" : \"passw2\"\n",
    "} \n",
    "\n",
    "user = \"user1\"\n",
    "passw = \"passw1\"\n",
    "def login(user,passw):\n",
    "    if user in creds:\n",
    "        if creds[user] == passw:\n",
    "            print(\"Logged in!\")\n",
    "        else:\n",
    "            print(\"Password incorrect!\")\n",
    "    else:\n",
    "        print(\"User not found\")\n",
    "\n",
    "\n",
    "login(user,passw)\n"
   ]
  },
  {
   "cell_type": "code",
   "execution_count": null,
   "metadata": {},
   "outputs": [],
   "source": []
  }
 ]
}