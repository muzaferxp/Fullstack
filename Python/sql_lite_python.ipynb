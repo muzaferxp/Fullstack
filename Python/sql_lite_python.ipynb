{
 "metadata": {
  "language_info": {
   "codemirror_mode": {
    "name": "ipython",
    "version": 3
   },
   "file_extension": ".py",
   "mimetype": "text/x-python",
   "name": "python",
   "nbconvert_exporter": "python",
   "pygments_lexer": "ipython3",
   "version": "3.9.0-final"
  },
  "orig_nbformat": 2,
  "kernelspec": {
   "name": "python3",
   "display_name": "Python 3.9.0 64-bit",
   "metadata": {
    "interpreter": {
     "hash": "c7192cbc191bcb1e11eb24b740d9d922bf147b1b4b27d90b14d37bd8ac6ff684"
    }
   }
  }
 },
 "nbformat": 4,
 "nbformat_minor": 2,
 "cells": [
  {
   "cell_type": "code",
   "execution_count": 4,
   "metadata": {},
   "outputs": [],
   "source": [
    "import sqlite3\n",
    "\n",
    "#pip install db-sqlite3\n",
    "#pip install pysqlite3\n",
    "\n",
    "#documentation : https://docs.python.org/3/library/sqlite3.html\n",
    "\n"
   ]
  },
  {
   "cell_type": "code",
   "execution_count": 30,
   "metadata": {},
   "outputs": [],
   "source": [
    "def sql(qry,action):\n",
    "    data = []\n",
    "    #connection\n",
    "    conn = sqlite3.connect('app.db')\n",
    "    c = conn.cursor()\n",
    "    c.execute(qry)\n",
    "    \n",
    "    if action == 0:\n",
    "        conn.commit()\n",
    "    elif action == 1:\n",
    "        data = c.fetchall()\n",
    "    elif action == 2:\n",
    "        data = c.fetchone()\n",
    "         \n",
    "    conn.close()\n",
    "    return data\n",
    "\n"
   ]
  },
  {
   "cell_type": "code",
   "execution_count": 100,
   "metadata": {},
   "outputs": [
    {
     "output_type": "execute_result",
     "data": {
      "text/plain": [
       "[]"
      ]
     },
     "metadata": {},
     "execution_count": 100
    }
   ],
   "source": [
    "sql('''CREATE TABLE stocks1(\n",
    "    date text, \n",
    "    trans text,\n",
    "    symbol text,\n",
    "    qty real,\n",
    "    price real)\n",
    "    '''\n",
    "    , 0)"
   ]
  },
  {
   "cell_type": "code",
   "execution_count": 76,
   "metadata": {},
   "outputs": [
    {
     "output_type": "execute_result",
     "data": {
      "text/plain": [
       "[]"
      ]
     },
     "metadata": {},
     "execution_count": 76
    }
   ],
   "source": [
    "sql(\"INSERT INTO stocks VALUES ('2006-01-08','BUY','c',100,56.14)\", 0)"
   ]
  },
  {
   "cell_type": "code",
   "execution_count": 77,
   "metadata": {},
   "outputs": [
    {
     "output_type": "execute_result",
     "data": {
      "text/plain": [
       "[('2006-01-08', 'BUY', 'A', 100.0, 50.14),\n",
       " ('2006-01-08', 'BUY', 'b', 100.0, 52.14),\n",
       " ('2006-01-08', 'BUY', 'b', 100.0, 55.14),\n",
       " ('2006-01-08', 'BUY', 'c', 100.0, 56.14)]"
      ]
     },
     "metadata": {},
     "execution_count": 77
    }
   ],
   "source": [
    "sql(\"SELECT * from stocks;\", 1)"
   ]
  },
  {
   "cell_type": "code",
   "execution_count": null,
   "metadata": {},
   "outputs": [],
   "source": [
    "\n",
    "'''\n",
    "create table\n",
    "\n",
    "insert,update,delete  (commit required)\n",
    "\n",
    "select, where clause\n",
    "\n",
    "drop table  (commit required)\n",
    "\n",
    "dynamic query \n",
    "\n",
    "sql_table to file\n",
    "\n",
    "file to sql_table\n",
    "\n",
    "'''\n",
    "\n",
    "\n",
    "'''\n",
    "to explore\n",
    "\n",
    "data analytics\n",
    "get rid of duplicates\n",
    "data aggrigation (monthly, weekly, daily)\n",
    "get unique value\n",
    "joint conditions\n",
    "\n",
    "'''"
   ]
  },
  {
   "cell_type": "code",
   "execution_count": 28,
   "metadata": {},
   "outputs": [],
   "source": [
    "qry = \"SELECT * from stocks;\"\n",
    "\n",
    "#step 1 (connection)\n",
    "#connection\n",
    "conn = sqlite3.connect('app.db')\n",
    "\n",
    "#step 2 (define cursor)\n",
    "c = conn.cursor()\n",
    "\n",
    "#step 3 (execute)\n",
    "c.execute(qry)\n",
    "\n",
    "#step 4\n",
    "#option 1\n",
    "#commit if insert/delete/update/craete/drop\n",
    "#conn.commit()\n",
    "\n",
    "#option 2 (retrive all records)\n",
    "data = c.fetchall()\n",
    "\n",
    "#option3 (retrive one record)\n",
    "data = c.fetchone()\n",
    "\n",
    "#step 5\n",
    "conn.close()\n"
   ]
  },
  {
   "cell_type": "code",
   "execution_count": 29,
   "metadata": {},
   "outputs": [
    {
     "output_type": "execute_result",
     "data": {
      "text/plain": [
       "[('2006-01-06', 'BUY', 'RHAT', 100.0, 30.14)]"
      ]
     },
     "metadata": {},
     "execution_count": 29
    }
   ],
   "source": [
    "data"
   ]
  },
  {
   "cell_type": "code",
   "execution_count": 31,
   "metadata": {},
   "outputs": [
    {
     "output_type": "execute_result",
     "data": {
      "text/plain": [
       "[]"
      ]
     },
     "metadata": {},
     "execution_count": 31
    }
   ],
   "source": [
    "#==============CREATE=========\n",
    "sql(\"CREATE TABLE user(username text,password text);\", 0)"
   ]
  },
  {
   "cell_type": "code",
   "execution_count": 35,
   "metadata": {},
   "outputs": [
    {
     "output_type": "execute_result",
     "data": {
      "text/plain": [
       "[]"
      ]
     },
     "metadata": {},
     "execution_count": 35
    }
   ],
   "source": [
    "#==================INSERT===========\n",
    "sql(\"insert into user values ('Sam','58651ghfgp');\", 0)"
   ]
  },
  {
   "cell_type": "code",
   "execution_count": 105,
   "metadata": {},
   "outputs": [
    {
     "output_type": "stream",
     "name": "stdout",
     "text": [
      "('Adam', 'newpassword')\n"
     ]
    }
   ],
   "source": [
    "#===============RETRIVE\n",
    "\n",
    "#retrive only one column (username)\n",
    "#data = sql(\"select username from user;\", 1)\n",
    "\n",
    "#retrive all columns\n",
    "data = sql(\"select * from user;\", 1)\n",
    "\n",
    "for user in data:\n",
    "    print(user)\n"
   ]
  },
  {
   "cell_type": "code",
   "execution_count": 57,
   "metadata": {},
   "outputs": [
    {
     "output_type": "execute_result",
     "data": {
      "text/plain": [
       "[('2006-01-08', 'BUY', 'ASD', 100.0, 50.14)]"
      ]
     },
     "metadata": {},
     "execution_count": 57
    }
   ],
   "source": [
    "#====================WHERE CLAUS\n",
    "\n",
    "sql(\"SELECT * from stocks where symbol = 'ASD' ; \", 1)"
   ]
  },
  {
   "cell_type": "code",
   "execution_count": 67,
   "metadata": {},
   "outputs": [
    {
     "output_type": "execute_result",
     "data": {
      "text/plain": [
       "[]"
      ]
     },
     "metadata": {},
     "execution_count": 67
    }
   ],
   "source": [
    "#===================UPDATE \n",
    "qry = \"UPDATE user set password = 'newpassword' where username = 'Adam';\"\n",
    "\n",
    "#sql(qry,0)\n",
    "\n",
    "#=====================DELETE\n",
    "qry = \"DELETE from stocks;\"\n",
    "#sql(qry, 0)\n",
    "\n",
    "\n",
    "#=================DROP TABLE\n",
    "qry = 'DROP table stocks;'\n",
    "sql(qry, 0)"
   ]
  },
  {
   "cell_type": "code",
   "execution_count": 71,
   "metadata": {},
   "outputs": [],
   "source": [
    "#=============dynamic qry\n",
    "\n",
    "def get_user_details(username):\n",
    "    qry = f\"SELECT * from user where username = '{username}';\"\n",
    "    print(qry)\n",
    "\n"
   ]
  },
  {
   "cell_type": "code",
   "execution_count": 72,
   "metadata": {},
   "outputs": [
    {
     "output_type": "stream",
     "name": "stdout",
     "text": [
      "SELECT * from user where username = 'Adam';\n"
     ]
    }
   ],
   "source": [
    "get_user_details(\"Adam\")"
   ]
  },
  {
   "cell_type": "code",
   "execution_count": 78,
   "metadata": {},
   "outputs": [],
   "source": [
    "#=================sql to file\n",
    "\n",
    "data = sql(\"SELECT * from stocks;\", 1)"
   ]
  },
  {
   "cell_type": "code",
   "execution_count": 89,
   "metadata": {},
   "outputs": [],
   "source": [
    "f = open(\"SQL_file.csv\", \"a\")\n",
    "\n",
    "for line in data:\n",
    "    write_line =  ''\n",
    "    for col in line:\n",
    "        write_line +=  str(col) + \",\"\n",
    "    write_line = write_line[:-1]\n",
    "    f.write(write_line + \"\\n\")\n",
    "\n",
    "f.close()"
   ]
  },
  {
   "cell_type": "code",
   "execution_count": 102,
   "metadata": {},
   "outputs": [
    {
     "output_type": "stream",
     "name": "stdout",
     "text": [
      "INSERT INTO stocks1 VALUES ('2006-01-08','BUY','A','100.0','50.14')\nINSERT INTO stocks1 VALUES ('2006-01-08','BUY','b','100.0','52.14')\nINSERT INTO stocks1 VALUES ('2006-01-08','BUY','b','100.0','55.14')\nINSERT INTO stocks1 VALUES ('2006-01-08','BUY','c','100.0','56.14')\n"
     ]
    }
   ],
   "source": [
    "#=================fie to sql\n",
    "f  = open(\"SQL_file.csv\", \"r\")\n",
    "\n",
    "#INSERT INTO stocks VALUES ('2006-01-08','BUY','c',100,56.14)\n",
    "\n",
    "for line in f:\n",
    "    \n",
    "    qry = \"INSERT INTO stocks1 VALUES (\"\n",
    "    line = line.replace(\"\\n\", \"\")\n",
    "    line = line.split(\",\")\n",
    "    vals = ''\n",
    "    for col in line:\n",
    "        vals += f\"'{col}',\"\n",
    "\n",
    "    vals = vals[:-1]\n",
    "    \n",
    "    vals += \")\"\n",
    "    qry += vals\n",
    "    print(qry) \n",
    "    sql(qry,0)\n",
    "\n",
    "    \n"
   ]
  },
  {
   "cell_type": "code",
   "execution_count": 103,
   "metadata": {},
   "outputs": [],
   "source": [
    "data = sql(\"SELECT * from stocks1;\", 1)"
   ]
  },
  {
   "cell_type": "code",
   "execution_count": 104,
   "metadata": {},
   "outputs": [
    {
     "output_type": "execute_result",
     "data": {
      "text/plain": [
       "[('2006-01-08', 'BUY', 'A', 100.0, 50.14),\n",
       " ('2006-01-08', 'BUY', 'b', 100.0, 52.14),\n",
       " ('2006-01-08', 'BUY', 'b', 100.0, 55.14),\n",
       " ('2006-01-08', 'BUY', 'c', 100.0, 56.14)]"
      ]
     },
     "metadata": {},
     "execution_count": 104
    }
   ],
   "source": [
    "data"
   ]
  },
  {
   "cell_type": "code",
   "execution_count": 112,
   "metadata": {},
   "outputs": [
    {
     "output_type": "stream",
     "name": "stdout",
     "text": [
      "Authenticated\n"
     ]
    }
   ],
   "source": [
    "#==============authenticate\n",
    "user= \"Adam\"\n",
    "passw = 'newpassword'\n",
    "\n",
    "data = sql(f\"select * from user where username = '{user}' and password = '{passw}' ;\", 1)\n",
    "if len(data) > 0:\n",
    "    print(\"Authenticated\")\n",
    "else:\n",
    "    print(\"Username or password is incorrect!\")\n"
   ]
  },
  {
   "cell_type": "code",
   "execution_count": null,
   "metadata": {},
   "outputs": [],
   "source": []
  }
 ]
}