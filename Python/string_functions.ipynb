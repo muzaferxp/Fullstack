{
 "metadata": {
  "language_info": {
   "codemirror_mode": {
    "name": "ipython",
    "version": 3
   },
   "file_extension": ".py",
   "mimetype": "text/x-python",
   "name": "python",
   "nbconvert_exporter": "python",
   "pygments_lexer": "ipython3",
   "version": "3.9.0-final"
  },
  "orig_nbformat": 2,
  "kernelspec": {
   "name": "python3",
   "display_name": "Python 3.9.0 64-bit",
   "metadata": {
    "interpreter": {
     "hash": "c7192cbc191bcb1e11eb24b740d9d922bf147b1b4b27d90b14d37bd8ac6ff684"
    }
   }
  }
 },
 "nbformat": 4,
 "nbformat_minor": 2,
 "cells": [
  {
   "source": [
    "#================================STRING FUNCTION=====================\n",
    "#capitalize function\n",
    "\n",
    "text = \"hello world\"\n",
    "\n",
    "text = text.capitalize()\n",
    "\n",
    "text\n",
    "\n"
   ],
   "cell_type": "code",
   "metadata": {},
   "execution_count": 2,
   "outputs": [
    {
     "output_type": "execute_result",
     "data": {
      "text/plain": [
       "'Hello world'"
      ]
     },
     "metadata": {},
     "execution_count": 2
    }
   ]
  },
  {
   "cell_type": "code",
   "execution_count": 3,
   "metadata": {},
   "outputs": [
    {
     "output_type": "execute_result",
     "data": {
      "text/plain": [
       "'Hello World'"
      ]
     },
     "metadata": {},
     "execution_count": 3
    }
   ],
   "source": [
    "#title\n",
    "text = \"hello world\"\n",
    "\n",
    "text = text.title()\n",
    "\n",
    "text\n"
   ]
  },
  {
   "cell_type": "code",
   "execution_count": 5,
   "metadata": {},
   "outputs": [
    {
     "output_type": "execute_result",
     "data": {
      "text/plain": [
       "'                   Hello World                    '"
      ]
     },
     "metadata": {},
     "execution_count": 5
    }
   ],
   "source": [
    "#center\n",
    "\n",
    "text = text.center(50)\n",
    "\n",
    "text"
   ]
  },
  {
   "cell_type": "code",
   "execution_count": 8,
   "metadata": {},
   "outputs": [
    {
     "output_type": "execute_result",
     "data": {
      "text/plain": [
       "'Hello World'"
      ]
     },
     "metadata": {},
     "execution_count": 8
    }
   ],
   "source": [
    "#strip\n",
    "text = '                   Hello World                    '\n",
    "text = text.strip()\n",
    "\n",
    "text"
   ]
  },
  {
   "cell_type": "code",
   "execution_count": 18,
   "metadata": {},
   "outputs": [
    {
     "output_type": "execute_result",
     "data": {
      "text/plain": [
       "\"Hello \\n world' % & ^\""
      ]
     },
     "metadata": {},
     "execution_count": 18
    }
   ],
   "source": [
    "text = \"Hello \\n world' % & ^\"\n",
    "text"
   ]
  },
  {
   "cell_type": "code",
   "execution_count": 19,
   "metadata": {},
   "outputs": [
    {
     "output_type": "execute_result",
     "data": {
      "text/plain": [
       "'Hello \\n world'"
      ]
     },
     "metadata": {},
     "execution_count": 19
    }
   ],
   "source": [
    "text = text.strip(\"\\n % & ^ ' \")\n",
    "text"
   ]
  },
  {
   "cell_type": "code",
   "execution_count": 54,
   "metadata": {},
   "outputs": [
    {
     "output_type": "execute_result",
     "data": {
      "text/plain": [
       "'hello  world'"
      ]
     },
     "metadata": {},
     "execution_count": 54
    }
   ],
   "source": [
    "#replace\n",
    "text = \"hello \\n world\"\n",
    "text = text.replace(\"\\n\", \"\")\n",
    "text"
   ]
  },
  {
   "cell_type": "code",
   "execution_count": 23,
   "metadata": {},
   "outputs": [
    {
     "output_type": "execute_result",
     "data": {
      "text/plain": [
       "'Trending-Technologies-In-2021'"
      ]
     },
     "metadata": {},
     "execution_count": 23
    }
   ],
   "source": [
    "text = \"trending technologies in 2021\"\n",
    "\n",
    "text = text.title()\n",
    "text = text.replace(\" \" , \"-\")\n",
    "text"
   ]
  },
  {
   "cell_type": "code",
   "execution_count": 27,
   "metadata": {},
   "outputs": [
    {
     "output_type": "execute_result",
     "data": {
      "text/plain": [
       "2"
      ]
     },
     "metadata": {},
     "execution_count": 27
    }
   ],
   "source": [
    "#Count\n",
    "\n",
    "text = \"mango in sweet, mango is yello\"\n",
    "\n",
    "text.count(\"mango\")\n"
   ]
  },
  {
   "cell_type": "code",
   "execution_count": 33,
   "metadata": {},
   "outputs": [
    {
     "output_type": "execute_result",
     "data": {
      "text/plain": [
       "True"
      ]
     },
     "metadata": {},
     "execution_count": 33
    }
   ],
   "source": [
    "# endswith()\n",
    "\n",
    "filename = \"demo.json\"\n",
    "\n",
    "filename.endswith(\".json\")"
   ]
  },
  {
   "cell_type": "code",
   "execution_count": 36,
   "metadata": {},
   "outputs": [
    {
     "output_type": "execute_result",
     "data": {
      "text/plain": [
       "False"
      ]
     },
     "metadata": {},
     "execution_count": 36
    }
   ],
   "source": [
    "filename = \"demo.py\"\n",
    "\n",
    "filename.endswith(\"txt\")"
   ]
  },
  {
   "cell_type": "code",
   "execution_count": 46,
   "metadata": {},
   "outputs": [
    {
     "output_type": "stream",
     "name": "stdout",
     "text": [
      "True\nFalse\n"
     ]
    }
   ],
   "source": [
    "#startswith()\n",
    "\n",
    "roll_nos = [\"16asdasd\", \"17cxzfsd\"]\n",
    "\n",
    "for x in roll_nos:\n",
    "    print(x.startswith(\"16\"))"
   ]
  },
  {
   "cell_type": "code",
   "execution_count": 42,
   "metadata": {},
   "outputs": [
    {
     "output_type": "execute_result",
     "data": {
      "text/plain": [
       "'json'"
      ]
     },
     "metadata": {},
     "execution_count": 42
    }
   ],
   "source": [
    "#split\n",
    "filename = \"demo.json\"\n",
    "\n",
    "extn = filename.split(\".\")\n",
    "\n",
    "extn = extn[-1]\n",
    "\n",
    "extn\n"
   ]
  },
  {
   "cell_type": "code",
   "execution_count": 47,
   "metadata": {},
   "outputs": [
    {
     "output_type": "execute_result",
     "data": {
      "text/plain": [
       "['mango in sweet', ' mango is yello']"
      ]
     },
     "metadata": {},
     "execution_count": 47
    }
   ],
   "source": [
    "text =  \"mango in sweet, mango is yello\"\n",
    "text = text.split(\",\")\n",
    "text"
   ]
  },
  {
   "cell_type": "code",
   "execution_count": 52,
   "metadata": {},
   "outputs": [
    {
     "output_type": "execute_result",
     "data": {
      "text/plain": [
       "'a b c'"
      ]
     },
     "metadata": {},
     "execution_count": 52
    }
   ],
   "source": [
    "# joinn()\n",
    "list1 = [\"a\", \"b\", \"c\"]\n",
    "\n",
    "text = \" \".join(list1)\n",
    "text"
   ]
  },
  {
   "cell_type": "code",
   "execution_count": 56,
   "metadata": {},
   "outputs": [
    {
     "output_type": "stream",
     "name": "stdout",
     "text": [
      "key1\nTrue\n"
     ]
    }
   ],
   "source": [
    "# lower\n",
    "\n",
    "data = {\n",
    "    \"key1\" : \"value1\"\n",
    "}\n",
    "\n",
    "inp = input()\n",
    "inp = inp.lower()\n",
    "print(inp)\n",
    "print(inp in data)"
   ]
  },
  {
   "cell_type": "code",
   "execution_count": 57,
   "metadata": {},
   "outputs": [
    {
     "output_type": "execute_result",
     "data": {
      "text/plain": [
       "'DATA'"
      ]
     },
     "metadata": {},
     "execution_count": 57
    }
   ],
   "source": [
    "# upper\n",
    "\n",
    "text = \"data\"\n",
    "text.upper()"
   ]
  },
  {
   "cell_type": "code",
   "execution_count": 9,
   "metadata": {},
   "outputs": [
    {
     "output_type": "stream",
     "name": "stdout",
     "text": [
      "mango  found\n"
     ]
    }
   ],
   "source": [
    "#find\n",
    "\n",
    "data = \"mango in sweet, mango is yello\"\n",
    "def search_item_in_str(line,item):\n",
    "\n",
    "    if line.find(item) != -1:\n",
    "        print(item, \" found\")\n",
    "    else:\n",
    "        print(item, \"not found\")\n",
    "\n",
    "search_item_in_str(data, \"mango\")"
   ]
  },
  {
   "cell_type": "code",
   "execution_count": 13,
   "metadata": {},
   "outputs": [
    {
     "output_type": "execute_result",
     "data": {
      "text/plain": [
       "'your str in  world'"
      ]
     },
     "metadata": {},
     "execution_count": 13
    }
   ],
   "source": [
    "# .format\n",
    "\n",
    "text0 = \"hello\"\n",
    "text1 = \" world\"\n",
    "text2 = \", welcome\"\n",
    "\n",
    "text  = \"your str in {}\".format(text1)\n",
    "text"
   ]
  },
  {
   "cell_type": "code",
   "execution_count": 20,
   "metadata": {},
   "outputs": [
    {
     "output_type": "execute_result",
     "data": {
      "text/plain": [
       "'your count is 10. Thats it'"
      ]
     },
     "metadata": {},
     "execution_count": 20
    }
   ],
   "source": [
    "count = 10\n",
    "#text  = \"your count is \" + str(count) + \".\"\n",
    "text  = \"your count is {}. {}\".format(\"10\", \"Thats it\")\n",
    "text"
   ]
  },
  {
   "cell_type": "code",
   "execution_count": 23,
   "metadata": {},
   "outputs": [
    {
     "output_type": "execute_result",
     "data": {
      "text/plain": [
       "'your count is 10'"
      ]
     },
     "metadata": {},
     "execution_count": 23
    }
   ],
   "source": [
    "data = \"10\"\n",
    "text = f\"your count is {data}\"\n",
    "text"
   ]
  },
  {
   "cell_type": "code",
   "execution_count": 31,
   "metadata": {},
   "outputs": [],
   "source": [
    "# index\n",
    "if \"123\" in text:\n",
    "    print(text.index(\"123\"))\n"
   ]
  },
  {
   "cell_type": "code",
   "execution_count": 1,
   "metadata": {},
   "outputs": [],
   "source": [
    "text = \"1608Ad\""
   ]
  },
  {
   "cell_type": "code",
   "execution_count": 7,
   "metadata": {},
   "outputs": [
    {
     "output_type": "execute_result",
     "data": {
      "text/plain": [
       "False"
      ]
     },
     "metadata": {},
     "execution_count": 7
    }
   ],
   "source": [
    "text.startswith(\"Ad\")"
   ]
  },
  {
   "cell_type": "code",
   "execution_count": 40,
   "metadata": {},
   "outputs": [],
   "source": [
    "#======================WORKING WITH FILES=================\n",
    "\n",
    "#open   (\"r\", \"w\", \"a\")\n",
    "#read\n",
    "#write\n",
    "#close\n",
    "\n",
    "f = open(\"demo.csv\", \"r\")\n",
    "\n",
    "filedata = f.readlines()\n",
    "\n",
    "f.close()\n",
    "\n"
   ]
  },
  {
   "cell_type": "code",
   "execution_count": 41,
   "metadata": {},
   "outputs": [
    {
     "output_type": "stream",
     "name": "stdout",
     "text": [
      "line1\n\nline2\n\nline3\n"
     ]
    }
   ],
   "source": [
    "for line in filedata:\n",
    "    print(line)"
   ]
  },
  {
   "cell_type": "code",
   "execution_count": 43,
   "metadata": {},
   "outputs": [],
   "source": [
    "f = open(\"demo1.csv\", \"w\")\n",
    "f.write(\"line 4\")\n",
    "f.close()"
   ]
  },
  {
   "cell_type": "code",
   "execution_count": 56,
   "metadata": {},
   "outputs": [],
   "source": [
    "f = open(\"demo.csv\", \"a\")\n",
    "for x in range(1,11):\n",
    "    f.write(\"line {} \\n\".format(str(x)))\n",
    "f.close()"
   ]
  },
  {
   "cell_type": "code",
   "execution_count": 81,
   "metadata": {
    "tags": []
   },
   "outputs": [
    {
     "output_type": "stream",
     "name": "stdout",
     "text": [
      "Aachen,Aachen,50.7762,6.0838,Germany,DE,DEU,North Rhine-Westphalia,minor,247380.0,1276805572\n\nAalen,Aalen,48.8372,10.0936,Germany,DE,DEU,Baden-Württemberg,minor,68456.0,1276757787\n\n"
     ]
    }
   ],
   "source": [
    "\n",
    "with open(\"demo.csv\") as f:\n",
    "    data = []\n",
    "    i = 0\n",
    "    for line in f:\n",
    "        if i < 5:\n",
    "            data.append(line)\n",
    "        i += 1\n",
    "\n",
    "#============FILTER DATA (WHERE COUNTRY IS GERMANY=========\n",
    "with open(\"worldcities.csv\", encoding=\"UTF-8\") as f:\n",
    "    i = 0\n",
    "    for line in f:\n",
    "        line = line.split(\",\")\n",
    "        if line[4] == \"Germany\":\n",
    "            print(\",\".join(line))\n",
    "        i += 1\n",
    "        if i >= 10:\n",
    "            break\n",
    "\n",
    "\n",
    "\n"
   ]
  },
  {
   "cell_type": "code",
   "execution_count": 85,
   "metadata": {
    "tags": [
     "outputPrepend"
    ]
   },
   "outputs": [
    {
     "output_type": "stream",
     "name": "stdout",
     "text": [
      "ové', 'Abony', 'Wuzhong', 'Yorii', 'Al Qurayyāt', 'Kashin', 'Esperance', 'Braúna', 'Brockworth', 'Mendi', 'Incline Village', 'Ilion', 'East Lake-Orient Park', 'McMasterville', 'Lota', 'Salvador', 'Mondim de Basto', 'Songea', 'Gulkevichi', 'Maués', 'Royal Kunia', 'Nether Providence', 'Sanmu', 'Gosport', 'Barnstaple', 'Kitaku', 'Chíos', 'Lesozavodsk', 'Floresville', 'Buellton', 'Great Neck Plaza', 'Collie', 'Roeland Park', 'Mossel Bay', 'Rumia', 'Tachiarai', 'Jiujiang', 'Arbroath', 'Bayonne', 'Winter Springs', 'Zemun', 'Nidadavole', 'Dundee', 'Cheb', 'San Pedro Garza García', 'Cross Lanes', 'Slavgorod', 'Kingoonya', 'Meadow Woods', 'Nagyhalász', 'Santiago del Estero', 'Scottsburg', 'Chalon-sur-Saône', 'Kawaminami', 'Dunboyne', 'Archángelos', 'Kuaidamao', 'Gorno-Altaysk', 'Frasin', 'Bahman', 'Broken Hill', 'Pilis', 'Finley', 'Warlingham', 'Codru', 'Evergreen Park', 'Kostanjevica na Krki', 'Mariánské Lázně', 'Zavodske', 'Temara', 'Gujō', 'Guachochi', 'Abensberg', 'Sun Prairie', 'West Perrine', 'Kozje', 'Lahat', 'Treharris', 'Eenhana', 'Jaunpils', 'Simferopol', 'Patam', 'Sand Lake', 'Lakeside', 'Vecpiebalga', 'Přelouč', 'Stowe', 'Kimberly', 'Southborough', 'Basse Santa Su', 'Plainfield', 'San Lorenzo', 'Pincourt', 'Campbellton', 'South Londonderry', 'Bonner Springs', 'Manono', 'South Yarmouth', 'Karratha', 'Kisújszállás', 'Vejle', 'Lake Country', 'Monkseaton', 'Hutto', 'Chegem Vtoroy', 'La Habra Heights', 'Campobasso', 'Samarkand', 'Āgra', 'Akhaltsikhe', 'Saint-Laurent-du-Maroni', 'Taiynsha', 'Rittman', 'Simonton Lake', 'Tullahoma', 'Vaduz', 'Waipio', 'Fort Wellington', 'Plettenberg', 'Gurabo', 'Grigoriopol', 'Bruchsal', 'North East', 'Verkhnevilyuysk', 'Hungen', 'Navalmoral de la Mata', 'Zima', 'Nida', 'Kole', 'Klin', 'Naganuma', 'Cidra', 'Eidson Road', 'Aarhus', 'Ridley Park', 'Chester', 'Barton upon Irwell', 'Indianapolis', 'Maine', 'Bee Cave', 'Takahama', 'Cosmópolis', 'Posadas', 'Bellefonte', 'Sevenoaks', 'Kenwood', 'Solotvyno', 'Goose Creek', 'Shikhany', 'North Star', 'Sherlovaya Gora', 'Elektrėnai', 'Aţ Ţā’if', 'Sorochinsk', 'Siteki', 'Jolo', 'Grandville', 'Lake Mohawk', 'Münzenberg', 'Hastings', 'Kostinbrod', 'Lapovo', 'Muroto-misakicho', 'Kostel', 'Münchenstein', 'Kuwait City', 'Louny', 'Cannes', 'North Fond du Lac', 'Hornell', 'Kigoma', 'Ōtawara', 'Bupoto', 'Attendorn', 'Chetumal', 'Gedern', 'Berea', 'Eraclea', 'Lititz', 'Nang Rong', 'Albertson', 'Sagastyr', 'Göytəpə', 'Herrnhut', 'Ísafjörður', 'Waiblingen', 'Little Hulton', 'Wolsztyn', 'Kleinsachsenheim', 'Saint-Apollinaire', 'Carlos Manuel de Céspedes', 'Świdnik', 'San Julián', 'Rigaud', 'Weiterstadt', 'Snina', 'Nakano', 'Ikeja', 'Clawson', 'Leopold', 'West Goshen', 'Ciudad General Belgrano', 'Montgeron', 'Milan', 'Tissemsilt', 'Gravesend', 'Mont-Royal', 'Irbid', 'Samamea', 'Nikolskoye', 'Wemding', 'Rahway', 'Port Townsend', 'Stone Mills', 'Jumlā', 'Zubří', 'Tequisquiapan', 'Antwerp', 'Chaumont', 'Bay St. Louis', 'Zābol', 'Quảng Ngãi', 'Ylivieska', 'Challapata', 'Chilca', 'Bad Driburg', 'Borlänge', 'Istanbul', 'Forest City', 'Breisach am Rhein', 'Narathiwat', 'Akita', 'Netanya', 'Brčko', 'Altadena', 'Albi', 'Bertioga', 'Petrópolis', 'Kwinana', 'Ngerulmud', 'El Harhoura', 'Viña del Mar', 'Ishigaki', 'Onega', 'Werneuchen', 'Brandermill', 'Gatton', 'Milpitas', 'Prior Lake', 'Ōsaka', 'Kashikishi', 'Böblingen', 'Pleasantville', 'Llangefni', 'La Porte', 'Petrozavodsk', 'Tupã', 'Fruitland', 'Offenburg', 'Cabanatuan City', 'Cirebon', 'Pondūru', 'Biysk', 'Neusiedl am See', 'Connersville', 'Al Jawf', 'Oneida', 'Hiroo', 'Scottdale', 'Kremastí', 'Green River', 'Boujad', 'Caledon', 'Linslade', 'Bacliff', 'Paysandú', 'Mandan', 'Yeghvard', 'Korostyshiv', 'Mtsensk', 'Botucatu', 'Kočevje', 'Morohongō', 'North Hempstead', 'Higashine', 'Ruda Śląska', 'Oettingen in Bayern', 'Ban Na Kham', 'Shady Side', 'Kan’onjichō', 'Zgornje Jezersko', 'Machakos', 'Biskupiec', 'Huzhou', 'Câmara de Lobos', 'Crofton', 'Seaham', 'Manisa', 'Nandyāl', 'Asadābād', 'Bowral', 'Miaoli', 'Morungaba', 'Kaser', 'Rio Pinar', 'Shaftesbury', 'Bafra', 'River Vale', 'Smyrna', 'Valletta', 'Vila Nova da Barquinha', 'Asahi', 'Faya', 'Malo Crniće', 'Helena Valley Southeast', 'Qā’em Shahr', 'Wajir', 'Dardenne Prairie', 'Hünfeld', 'Bugojno', 'Takikawa', 'Brandis', 'Jelcz-Laskowice', 'Lehman', 'Salo', 'Chortoq', 'Lowton', 'Santo Antônio da Alegria', 'Manicoré', 'Mastic Beach', 'Laranjal Paulista', 'Shepshed', 'Balingen', 'Sapulpa', 'Cangamba', 'Kilosa', 'Nizhnevartovsk', 'Prescott', 'Kleve', 'Trumpington', 'Flöha', 'Genhe', 'Photharam', 'Roseburg', 'Parigi', 'Dzidzantun', 'El Kef', 'Bom Jesus da Lapa', 'Calverley', 'Prey Veng', 'Barvynkove', 'Rockport', 'Kalifornsky', 'Bow', 'Lake Oswego', 'Bessemer', 'Šempeter pri Gorici', 'Hunedoara', 'Caracaraí', 'Dormagen', 'Nilandhoo', 'Camabatela', 'Ogano', 'Philomath', 'Suphan Buri', 'Bo‘ston', 'Corsicana', 'Kapuvár', 'Nikolsk', 'Franco da Rocha', 'Waggaman', 'Écija', 'Kamnik', 'Mansôa', 'Lovington', 'Estremoz', 'Mangochi', 'Naro-Fominsk', 'South Park Township', 'Lindfield', 'Ma’rib', 'Lake Fenton', 'Apolo', 'Santos', 'Midvale', 'Shahr-e Qods', 'Sumba', 'New Amsterdam', 'Dovzhansk', 'Itamaraju', 'Gap', 'Hamden', 'Yaxley', 'Calne', 'Wunsiedel', 'Binghamton', 'Ximeicun', 'Big Flats', 'Puyang', 'Murwillumbah', 'Kulpsville', 'Southern Cross', 'Maidenhead', 'Sulingen', 'Yingtan', 'Ise', 'Ban Laem Chabang', 'Ankang', 'Whitehorse', 'Bagnolet', 'Schwaz', 'Carouge', 'Stockton', 'Hong Kong', 'Laurence Harbor', 'Nacajuca', 'Ereğli', 'Gryazi', 'Troyes', 'Progress Village', 'Stevens Point', 'Port Charlotte', 'Bafwasende', 'Kuvshinovo', 'Kikwit', 'Maricopa', 'Monterey', 'Porter', 'Bulandshahr', 'McLean', 'Shingū', 'Rio Rancho', 'Rochelle', 'Airdrie', 'Illogan', 'Salamá', 'Lebane', 'Athens', 'Santa Maria da Serra', 'Langley Park', 'Reims', 'Bavly', 'London Grove', 'Baidyabāti', 'Freistadt', 'Platteville', 'Avenel', 'Hyères', 'Figuig', 'Głubczyce', 'Samsun', 'Bengbu', 'Dnipro', 'Belgrade', 'Karnāl', 'Butebo', 'Espelkamp', 'Tanfield', 'Ourém', 'Barletta', 'Waipio Acres', 'Belousovo', 'Tegucigalpita', 'Lake Lorraine', 'Suriāpet', 'San Marino', 'Swindon', 'Stewarton', 'Saint John’s', 'Meghraj', 'Kentaū', 'Russell', 'E’zhou', 'Jixi', 'Águas da Prata', 'Xalapa', 'Glazov', 'Bərdə', 'Kilmarnock', 'Toulon', 'Chehalis', 'Sioux Falls', 'Zāzerān', 'Jeffersontown', 'Montreuil', 'Hoyland Nether', 'Vineland', 'Queenstown', 'Coffeyville', 'Mariinskiy Posad', 'Chippenham', 'Shotley Bridge', 'Benoni', 'Schererville', 'Cyangugu', 'Totness', 'Shelby', 'Meoqui', 'Darregueira', 'Thiruvananthapuram', 'Waterbeach', 'Lawndale', 'Yopal', 'West Carrollton', 'Timişoara', 'Orange Walk', 'Hrastnik', 'Drvar', 'Izyaslav', 'Jiangmen', 'Mysłowice', 'Wetherby', 'Pestovo', 'Donegal', 'Shwebo', 'Boulder', 'Vechta', 'Kalemie', 'Chascomús', 'Gaithersburg', 'Newhaven', 'Aguascalientes', 'Simsbury Center', 'Guaranda', 'Akçakale', 'Oakwood', 'Rantoul', 'Tumwater', 'Yorkville', 'Rugeley', 'Tula de Allende', 'Atakpamé', 'Poprad', 'Vilsbiburg', 'Friedrichroda', 'Coaticook', 'Tiffin', 'Zubtsov', 'Weißenfels', 'Horwich', 'Delitzsch', 'Boorama', 'Raymore', 'Rio Branco', 'Dubăsari', 'Chaville', 'Highland Park', 'Haradok', 'Kanjiža', 'Foothill Farms', 'Szerencs', 'Babruysk', 'Palmeira d’Oeste', 'Salgótarján', 'Kimje', 'Imperial', 'Uničov', 'Puerto Vallarta', '‘Ajlūn', 'Nizhniy Lomov', 'Mays Chapel', 'Ceerigaabo', 'Abergavenny', 'Karcag', 'Oakville', 'Allouez', 'Pinellas Park', 'Ratzeburg', 'Gulf Hills', 'Mongaguá', 'Girard', 'Gitarama', 'Bolotnoye', 'Namur', 'Jaén', 'Fort Bliss', 'Barabinsk', 'Püttlingen', 'Pfullendorf', 'Dondo', 'Augsburg', 'El Sobrante', 'East Hemet', 'Porto Nacional', 'Woodway', 'São José dos Pinhais', 'West Boylston', 'Solvang', 'Upper Buchanan', 'Bangor Base', 'Gardabani', 'Sete Lagoas', 'Huntsville', 'Sarov', 'Carterton', 'Ladera Ranch', 'West Whiteland', 'Janakpur', 'Sawbridgeworth', 'Tawau', 'Cametá', 'Waldkraiburg', 'North Salt Lake', 'Lippstadt', 'Măgurele', 'Baden', 'Coquimatlán', 'Laçın', 'Central Point', 'Heathcote', 'Hapeville', 'Neumarkt am Wallersee', 'Žďár nad Sázavou', 'Ranson', 'Voskresensk', 'Bryans Road', 'Mansfield Center', 'Yaizu', 'Swainsboro', 'Karlskrona', 'Amöneburg', 'Markkleeberg', 'Nagoya', 'Kikugawa', 'Sedgefield', 'Amberg', 'Xinpu', 'Kalangala', 'La Marque', 'Buckhannon', 'Ar Raḩmānīyah', 'Ghadāmis', 'Drogheda', 'Jiaojiangcun', 'Rio Bravo', 'Cusseta', 'Jammalamadugu', 'Minzhu', 'Tarko-Sale', 'Yibin', 'Mukwonago', 'Marathon', 'Burwell', 'Guymon', 'Kuvandyk', 'Chambly', 'Rosemount', 'Ystradgynlais', 'Kapchorwa', 'Kunitachi', 'Świedbodzin', 'San Lawrenz', 'Užice', 'Torghay', 'Horšovský Týn', 'Ban Om Noi', 'McAlester', 'Al Ḩawīyah', 'Mühlacker', 'Ivanjica', 'Weaverham', 'Granollers', 'Alfred', 'Fort Thomas', 'Amatlán de los Reyes', 'Kotli', 'Alpharetta', 'Broadstairs', 'Nokaneng', 'Gawler', 'Sveti Nikole', 'Shemonaīkha', 'Ban Houayxay', 'Forchtenberg', 'Kipili', 'Mashpee', 'Unity', 'Catanduva', 'Punakha', 'Douliu', 'Harleysville', 'Annaka', 'Aldershot', 'Northview', 'Unión Chocó', 'Las Veredas', 'Tōno', 'West Point', 'Veresegyház', 'Carnarvon', 'Cimarron Hills', 'Highfields', 'Yenice', 'Henderson', 'Koumra', 'Krasnouralsk', 'Ban Phru', 'Murphy', 'Kateríni', 'Maracha', 'Selah', 'Miyazaki', 'Lake Forest Park', 'Innisfail', 'Cork', 'Whitwick', 'Ettenheim', 'Kruševo', 'Pīrānshahr', 'Saint-Henri', 'Benedikt', 'Kralendijk', 'Santa María Huazolotitlán', \"O'Hara\", 'Barra do Chapéu', 'Zherdevka', 'Canberra', 'Wewak', 'Nkongsamba', 'Attica', 'Leatherhead', 'Dundalk', 'Hargeysa', 'Heze', 'Xichang', 'Lugoff', 'Múggia', 'Pskov', 'Espera Feliz', 'Pucallpa', 'Havana', 'Huancayo', 'Beeskow', 'Markovci', 'Vetschau', 'Sucre', 'Remagen', 'Mono', 'Tulbagh', 'Kálymnos', 'Labinsk', 'Ronda', 'Oberviechtach', 'Nagykálló', 'Malmesbury', 'Tsukuba-kenkyūgakuen-toshi', 'DeKalb', 'Heanor', 'Rekovac', 'Arapongas', 'Florham Park', 'Dawson Creek', 'Dettelbach', 'Albany', 'Wittenberge', 'Noyabrsk', 'Limbourg', 'Bāli', 'Nalgonda', 'Highland Lakes', 'Wilcannia', 'Náfplio', 'Aristóbulo del Valle', 'Lod', 'L’Haÿ-les-Roses', 'Peasedown Saint John', 'Rutland', 'Choppington', 'Istres', 'Arroyo', 'Padova', 'Pasadena Hills', 'Ayr', 'Waldbröl', 'Svay Rieng', 'Lindsay', 'Waimea', 'Slyudyanka', 'Traunreut', 'Miragoâne', 'Lake Delton', 'San Francisco', 'Quarryville', 'San Luis de La Loma', 'Cunha', 'Schlüsselfeld', 'Gaigirgordub', 'Huron', 'Weyburn', 'Abeokuta', 'I-n-Amenas', 'Grayslake', 'Cam', 'Kandern', 'Prestonpans', 'San José de Aerocuar', 'Yangchun', 'Gyêgu', 'Robāţ Karīm', 'Morpeth', 'Pitsea', 'Mahbūbnagar', 'Újfehértó', 'Leutershausen', 'Ocumare del Tuy', 'Amritsar', 'Batna', 'Juli', 'Glyncorrwg', 'Gar', 'Kodinsk', 'Alīpur Duār', 'Bamenda', 'Dąbrowa Białostocka', 'Grünstadt', 'Battambang', 'Glencoe', 'Barnet', 'Aqsū', 'Tutong', 'Galich', 'Uelen', 'Nova Odessa', 'Annweiler am Trifels', 'Dobrna', 'Benin City', 'Grad', 'Cave Creek', 'Dewsbury', 'Itajobi', 'Cotonou', 'Masallı', 'Zhizdra', 'Zephyrhills West', 'Mirassol', 'Parvomay', 'Jakarta', 'Hardyston', 'Laage', 'Petaling Jaya', 'Muzaffarabad', 'Santa Cruz Xoxocotlán', 'Kirovsk', 'Parry Sound', 'Drākshārāma', 'Nochistlán de Mejía', 'Amahai', 'Dove Valley', 'Rowland Heights', 'Utica', 'Pătârlagele', 'Marhanets’', 'Milford city', 'Muroran', 'Matochkin Shar', 'Waitangi', 'Bedlington', 'Porters Neck', 'Dormont', 'Westchester', 'Zephyrhills South', 'Hudsonville', 'Suisun City', 'Chena Ridge', 'West Hartford', 'Reẕvānshahr', 'Estiva Gerbi', 'Rincão', 'Staveley', 'Káto Achaḯa', 'Ostrava', 'Pinsk', 'Brownsweg', 'Horezu', 'Shaoguan', 'Ruma', 'Covedale', 'Temryuk', 'Naie', 'Dorogobuzh', 'Völklingen', 'Santa Gertrudes', 'Elmhurst', 'Lemont', 'Roeselare', 'Puchheim', 'Antis', 'Niigata', 'Harvey', 'Shkodër', 'Boguchar', 'Junín', 'Sayō', 'Kirkwood', 'Madiun', 'Wollongong', 'Modesto', 'Sandanski', 'Placetas', 'North Shields', 'Šaľa', 'Pawcatuck', 'Beining', 'Cwmafan', 'Velika Kladuša', 'Nizhnyaya Salda', 'Lamwo', 'Ilorin', 'Big Bear Lake', 'Doraville', 'Keuruu', 'Aberdeen', 'McRae-Helena', 'Tashir', 'Granja', 'Gadebusch', 'Chartres', 'Spitalfields', 'Somersworth', 'Black River Falls', 'Alamedin', 'Santo Tomás de los Plátanos', 'Tzaneen', 'Yaotsu', 'Goaso', 'Schaarbeek', 'Port Orange', 'Ovalle', 'Leisure World', 'Annecy', 'Bad Nauheim', 'Jinan', 'Zouerate', 'Zhuanghe', 'Bad Frankenhausen', 'Puerto Lempira', 'Sanderstead', 'Dalhart', 'Steinau an der Straße', 'Shamong', 'Olomouc', 'Oberkirch', 'Failsworth', 'Comandante Luis Piedra Buena', 'Qulsary', 'Pita', 'Fountain Valley', 'Rakvere', 'Munro', 'Ugol’nyye Kopi', 'Romsey', 'Tawaramoto', 'Sutton on Hull', 'Burton upon Trent', 'Jeddah', 'Meïganga', 'Tuban', 'Priekuļi', 'Wailea', 'Clowne', 'Banbury', 'Bytom', 'Vertou', 'Quillacollo', 'Zalaszentgrót', 'Stony Plain', 'Nizāmābād', 'Timimoun', 'Du Quoin', 'Laval', 'Šid', 'Barth', 'Kusŏng', 'Okahandja', 'Rize', 'Mandi Bahauddin', 'Dubai', 'Ayapel', 'Bălan', 'Salanso', 'Kislovodsk', 'Kullorsuaq', 'Buikwe', 'Pontypridd', 'Rostraver', 'Tizi Ouzou', 'Jaú', 'Ilshofen', 'Makhachkala', 'Keflavík', 'Sartrouville', 'Chaguanas', 'Chusovoy', 'Toconao', 'Gori', 'Paro', 'Hornsea', 'Stony Stratford', 'Yamazaki', 'Sopur', 'Tākestān', 'Alfeld', 'Drahichyn', 'Rice Lake', 'Bogorodsk', 'Harlington', 'Jacarèzinho', 'Waidhofen an der Thaya', 'Aspen', 'Mill Creek', 'Kodiak', 'Qianzhou', 'Anoka', 'Kourou', 'Mayfield', 'Ingelheim', 'Springdale', 'South River', 'Thongwa', 'Conroe', 'Estherville', 'La Plata', 'Baiquan', 'Murphysboro', 'Sagay', 'Bürstadt', 'Jamālpur', 'Port Jefferson Station', 'Kam”yanets’-Podil’s’kyy', 'Agboville', 'Gwanda', 'Biñan', 'Hochheim am Main', 'Mérida', 'Bontoc', 'Xinyi', 'Ciudad del Este', 'Changling', 'Burrel', 'Tauragė', 'Knowle', 'Castellammare di Stabia', 'Karūr', 'Lake Ridge', 'Zhezqazghan', 'Skrunda', 'Mercedes', 'Delafield', 'Puerto San José', 'Veinticinco de Mayo', 'Avra Valley', 'Wendlingen am Neckar', 'Bonita', 'Birnin Konni', 'Wheaton', 'Puerto Acosta', 'Torihama', 'Takae', 'Dunakeszi', 'Avellaneda', 'LaFayette', 'De Motte', 'Sabana Grande', 'Trakai', 'Sơn Tây', 'West Babylon', 'Zveçan', 'Little River', 'Glenside', 'Benxi', 'Baucau', 'Adrian', 'Khrystynivka', 'Chippewa Falls', 'Soissons', 'Kalajoki', 'Metuchen', 'Río Gallegos', 'Rudnyy', 'Notodden', 'Jerome', 'Gamprin', 'Gujrat', 'Laixi', 'Narok', 'Mammoth Lakes', 'Eindhoven', 'South Jordan', 'Port Jervis', 'Kalynivka', 'Southwood Acres', 'Okhotsk', 'Bragado', 'Port Huron', 'Mazyr', 'Bartın', 'São João dos Angolares', 'Adel', 'Massillon', 'Sayansk', 'Vale', 'Wetter (Ruhr)', 'Nouna', 'Druskininkai', 'Cedar Park', 'Bad Gandersheim', 'Monterrey', 'Salinas', 'Krasnodar', 'Manhiça', 'Eastpointe', 'Pinkafeld', 'Jizzax', 'Bady Bassitt', '‘Ar‘ar', 'Cheremkhovo', 'Pedro Celestino Negrete', 'Pula', 'Ouésso', 'Sovetsk', 'Mococa', 'Kingsnorth', 'Nagari', 'Târgu Jiu', 'Linares', 'Baxley', 'Newcastle under Lyme', 'Allison Park', 'Siler City', 'Hutchinson', 'Pen-y-Bont ar Ogwr', 'Chapulhuacán', 'Marton', 'Buena Vista', 'Cutlerville', 'Międzyrzecz', 'Wigston Magna', 'Žarnovica', 'Jimboomba', 'Yingmen', 'Ahfir', 'Fray Bentos', 'Junnar', 'Sahiwal', 'Chalfont Saint Peter', 'Margate', 'Luwero', 'Joué-lés-Tours', 'Sochi', 'Royal Tunbridge Wells', 'Santiago de Cuba', 'Maralal', 'Leulumoega', 'Satupa‘itea', 'Zuni Pueblo', 'Villena', 'Novara', 'Glen Rock', 'Beyləqan', 'Třinec', 'Shildon', 'Shawano', 'Wa', 'Meyzieu', 'Salto', 'Porthcawl', 'Asbury Park', 'Kippax', 'St. Catharines', 'Agrínio', 'Perrysburg', 'Kanifing', 'Mansfield', 'Jablanica', 'Centerton', 'Vyazma', 'Salcajá', 'Nolensville', 'Ishii', 'Odivelas', 'McDonough', 'El Fula', 'Itasca', 'Briceni', 'Tsukubamirai', 'Lichtenburg', 'Lübbecke', 'San José Villa de Allende', 'Fargo', 'Žiar nad Hronom', 'Bagshot', 'Podporozhye', 'Novocherkassk', 'Spokane Valley', 'Gbely', 'Tenterden', 'Marburg', 'Lykóvrysi', 'Antipolo', 'Bückeburg', 'Ashtabula', 'Ovruch', 'Spišská Belá', 'Três Fronteiras', 'Normal', 'Bietigheim-Bissingen', 'Bukomansimbi', 'Capitão Poço', 'Hameln', 'Tlalmanalco', 'Warburg', 'Magtymguly', 'Opuwo', 'Sabino', 'Shancheng', 'Notre-Dame-des-Prairies', 'Myeik', 'Anapa', 'Newton', 'Scarborough', 'Seven Hills', 'Camp Hill', 'Endicott', 'Schneverdingen', 'Visselhövede', 'Laconia', 'Bariri', 'Carthage', 'North Bay Village', 'Morombe', 'Ryazan', 'Strážnice', 'Dzitbalché', 'Schweinfurt', 'Hamtramck', 'São João da Madeira', 'Zillah', 'Śmigiel', 'Nkhata Bay', 'Twentynine Palms', 'Jõgeva', 'Lincoln Park', 'Chinde', 'As Samāwah', 'Wilkau-Haßlau', 'Serra Azul', 'Créteil', 'Ovidiu', 'Šentrupert', 'Primero de Enero', 'Shaowu', 'Eggertsville', 'Nambu', 'Harunabad', 'Velika Plana', 'Valenciennes', 'Sinop', 'Chicureo Abajo', 'Yartsevo', 'Orekhovo-Zuyevo', 'Ta‘izz', 'Reynoldsburg', 'Lyss', 'Pontardawe', 'Canavieiras', 'Jalingo', 'Newberry', 'Carpinteria', 'Loves Park', 'Vwawa', 'Wichita Falls', 'Chungju', 'Dibaya', 'Buluko', 'Kamitakeshi', 'Nador', 'Wicklow', 'Udipi', 'Ilkeston', 'Polatlı', 'Torgelow', 'Fürstenfeldbruck', 'Mankato', 'Walvisbaai', 'Gornyak', 'Singkawang', 'Northlake', 'Rottenburg an der Laaber', 'Yidu', 'Donduşeni', 'Kula', 'Bangkok', 'Lučenec', 'Balakliia', 'Berkovitsa', 'Olteniţa', 'Tornesch', 'The Hammocks', 'Villa del Carbón', 'Toowoomba', 'Chaniá', 'Itaberaí', 'Brixton', 'Joshua', 'Karakol', 'Changzhou', 'Itapipoca', 'Pierre', 'Korschenbroich', 'Fürstenwalde', 'Ives Estates', 'Tottori', 'Etropole', 'Tamiami', 'Gallup', 'Kakamega', 'Brunoy', 'Shirakawa', 'Morrisville', 'Yorktown', 'Nchelenge', 'Temirtaū', 'Upper', 'Strumica', 'Irpin’', 'Kelly', 'Managua', 'Mzimba', 'Al Muḩarraq', 'Swarthmore', 'North Logan', 'Oyabe', 'Klyetsk', 'Gillette', 'São José do Rio Prêto', 'Harlescott', 'Aosta', 'Holbeach', 'Parkersburg', 'Jerseyville', 'Chizhou', 'Bongao', 'Banak', 'Paracatu', 'Mopipi', 'Szekszárd', 'Santa Rosa', 'Worland', 'Ziftá', 'Gornji Petrovci', 'Yên Bái', 'Namp’o', 'Hanau', 'Apatzingan de la Constitucion', 'Dearborn', 'Mikulov', 'Sue', 'Sodražica', 'Royal Palm Beach', 'Blois', 'Sankt Wendel', 'Bukhara', 'Bas-Warneton', 'Weddington', 'Wawarsing', 'Ādēt', 'Tzintzuntzán', 'Scottsbluff', 'Genappe', 'Nueve de Julio', 'Poltár', 'Adelphi', 'Sunrise Manor', 'Sutton Coldfield', 'Pontoise', 'Waxhaw', 'Twin Rivers', 'Houlton', 'Tadaoka-higashi', 'El Obeid', 'Ban Aranyik', 'Rincon', 'Broome', 'Shāhrūd', 'Travilah', 'Bridge of Allan', 'Leninogorsk', 'Woodlake', 'Grimstad', 'Gudja', 'Novoshakhtinsk', 'Svobodnyy', 'Elias Fausto', 'Le Havre', 'Fort Carson', 'Lambaréné', 'Amalāpuram', 'Los Teques', 'Benbrook', 'South Dundas', 'Soio', 'Santa Rosa Jauregui', 'La Rioja', 'Chumbicha', 'Quilpie', 'Zvornik', 'Marumori', 'Kamensk-Shakhtinskiy', 'Dedovsk', 'Carmel Hamlet', 'Pozo Colorado', 'West Yarmouth', 'Dagestanskiye Ogni', 'Port Louis', 'Estrêla d’Oeste', 'Grytviken', 'Mercer Island', 'Fitzgerald', 'Bermejo', 'Haßfurt', 'Shibecha', 'Carás', 'Novobërdë', 'Hayden', 'Aleksandrovac', 'Nueva Paz', 'Ch’ŏngjin', 'Southwell', 'Třebechovice pod Orebem', 'Hortolândia', 'Earlswood', 'Beijing', 'Montemor-o-Novo', 'Winnenden', 'Macedonia', 'Ouidah', 'Santander', 'Sárvár', 'Moncton', 'Bole', 'Binga', 'East Windsor', 'Kwekwe', 'Tunguskhaya', 'Ancient Oaks', 'Český Brod', 'Gedling', 'Jingcheng', 'Dubňany', 'Viernheim', 'New Rochelle', 'Chenango', 'Kundiawa', 'Urmston', 'Montmorency', 'Haapavesi', 'Tire', 'Alapayevsk', 'Elkridge', 'Tecolutla', 'Busto Arsizio', 'Amble', 'Bridgeview', 'La Piedad', 'Stanthorpe', 'Campina Grande', 'Berane', 'Santa Cruz Zenzontepec', 'Cumming', 'Elin Pelin', 'Piura', 'Budeşti', 'Lučani', 'Santiago Amoltepec', 'Hoquiam', 'East Haven', 'Kürdəmir', 'Lucena', 'East Dereham', 'Stanley', 'Al Ḩazm', 'Asunción Nochixtlán', 'Dārayyā', 'Isulan', 'East San Gabriel', 'Hayward', 'Schmallenberg', 'Mandalgovĭ', 'Manduri', 'Valatie', 'Chinnor', 'Walkden', 'Ad Duraykīsh', 'Olenegorsk', 'Stary Sącz', 'Bramley', 'Néa Anchiálos', 'Ferguson', 'Sebiş', 'Novaci', 'Nada', 'Sato', 'Aston', 'Cecil', 'Bratsk', 'Wilton Manors', 'Chicoloapan', 'Plattsmouth', 'Hot Springs Village', 'Richmond', 'La Feria', 'Lower Salford', 'Tarutung', 'Nădlac', 'Tunis', 'North Fort Myers', 'Susanville', 'Huánuco', 'Slavyansk-na-Kubani', 'Jaffna', 'Worcester Park'}\n"
     ]
    }
   ],
   "source": [
    "\n",
    "with open(\"worldcities.csv\", encoding=\"UTF-8\") as f:\n",
    "    cities = []\n",
    "    for line in f:\n",
    "        line = line.split(\",\")\n",
    "        cities.append(line[0])\n",
    "    print(set(cities))"
   ]
  },
  {
   "cell_type": "code",
   "execution_count": 97,
   "metadata": {},
   "outputs": [],
   "source": [
    "f = open(\"worldcities.csv\", encoding=\"UTF-8\").readlines()\n",
    "\n",
    "cities = [line for line in f]"
   ]
  },
  {
   "cell_type": "code",
   "execution_count": 101,
   "metadata": {
    "tags": []
   },
   "outputs": [],
   "source": [
    "data = [x.lower() for x in f]\n"
   ]
  },
  {
   "cell_type": "code",
   "execution_count": 102,
   "metadata": {},
   "outputs": [
    {
     "output_type": "execute_result",
     "data": {
      "text/plain": [
       "0,1450649394\\n',\n",
       " 'antalya,antalya,36.9081,30.6956,turkey,tr,tur,antalya,admin,2426356.0,1792988434\\n',\n",
       " 'antananarivo,antananarivo,-18.9386,47.5214,madagascar,mg,mdg,antananarivo,primary,2610000.0,1450978461\\n',\n",
       " 'antelope,antelope,38.7153,-121.361,united states,us,usa,california,,47326.0,1840022490\\n',\n",
       " 'antequera,antequera,37.0184,-4.5597,spain,es,esp,andalusia,,41239.0,1724357550\\n',\n",
       " 'anthem,anthem,33.856,-112.1168,united states,us,usa,arizona,,22570.0,1840022919\\n',\n",
       " 'anthony,anthony,31.9876,-106.5933,united states,us,usa,texas,,5352.0,1840022138\\n',\n",
       " 'anthony,anthony,32.0132,-106.5984,united states,us,usa,new mexico,,9239.0,1840018049\\n',\n",
       " 'antibes,antibes,43.5808,7.1239,france,fr,fra,provence-alpes-côte d’azur,,72999.0,1250213494\\n',\n",
       " 'antigo,antigo,45.1413,-89.1556,united states,us,usa,wisconsin,,7695.0,1840001565\\n',\n",
       " 'antigonish,antigonish,45.6167,-61.9833,canada,ca,can,nova scotia,,5002.0,1124839247\\n',\n",
       " 'antigua guatemala,antigua guatemala,14.5567,-90.7337,guatemala,gt,gtm,sacatepéquez,admin,45669.0,1320020808\\n',\n",
       " 'antioch,antioch,42.4742,-88.0721,united states,us,usa,illinois,,14175.0,1840010115\\n',\n",
       " 'antioch,antioch,37.9789,-121.7958,united states,us,usa,california,,302419.0,1840018903\\n',\n",
       " 'antipolo,antipolo,14.5842,121.1763,philippines,ph,phl,rizal,admin,776386.0,1608824345\\n',\n",
       " 'antis,antis,40.6221,-78.3563,united states,us,usa,pennsylvania,,6291.0,1840152337\\n',\n",
       " 'antofagasta,antofagasta,-23.6464,-70.398,chile,cl,chl,antofagasta,admin,380695.0,1152734289\\n',\n",
       " 'antoing,antoing,50.5669,3.4494,belgium,be,bel,wallonia,,7760.0,1056797229\\n',\n",
       " 'antony,antony,48.7539,2.2975,france,fr,fra,île-de-france,minor,62570.0,1250570123\\n',\n",
       " 'antratsyt,antratsyt,48.1167,39.0833,ukraine,ua,ukr,luhans’ka oblast’,minor,54640.0,1804312048\\n',\n",
       " 'antrim,antrim,54.7173,-6.2055,united kingdom,gb,gbr,antrim and newtownabbey,,19986.0,1826477610\\n',\n",
       " 'antrim,antrim,39.7863,-77.722,united states,us,usa,pennsylvania,,15528.0,1840148478\\n',\n",
       " 'antsirabe,antsirabe,-19.8667,47.0333,madagascar,mg,mdg,antananarivo,minor,257163.0,1450791699\\n',\n",
       " 'antsiran̈ana,antsiranana,-12.2765,49.3115,madagascar,mg,mdg,antsiranana,admin,82937.0,1450106928\\n',\n",
       " 'antsohihy,antsohihy,-14.8661,47.9834,madagascar,mg,mdg,mahajanga,minor,21290.0,1450240411\\n',\n",
       " 'antwerp,antwerp,51.2211,4.3997,belgium,be,bel,flanders,minor,529247.0,1056168623\\n',\n",
       " 'antónio enes,antonio enes,-16.2308,39.9105,mozambique,mz,moz,nampula,,57835.0,1508591443\\n',\n",
       " 'anuradhapura,anuradhapura,8.335,80.4108,sri lanka,lk,lka,north central,admin,118302.0,1144764835\\n',\n",
       " 'anyang,anyang,37.3925,126.9269,\"korea, south\",kr,kor,gyeonggi,,573296.0,1410581095\\n',\n",
       " 'anykščiai,anyksciai,55.5344,25.1072,lithuania,lt,ltu,anykščiai,admin,9190.0,1440174702\\n',\n",
       " 'anzhero-sudzhensk,anzhero-sudzhensk,56.0833,86.0333,russia,ru,rus,kemerovskaya oblast’,,70476.0,1643779858\\n',\n",
       " 'anáhuac,anahuac,28.48,-106.7442,mexico,mx,mex,chihuahua,,9952.0,1484106283\\n',\n",
       " 'anápolis,anapolis,-16.3269,-48.9528,brazil,br,bra,goiás,,366491.0,1076208869\\n',\n",
       " 'anávyssos,anavyssos,37.7333,23.95,greece,gr,grc,attikí,,6202.0,1300646410\\n',\n",
       " 'aomori,aomori,40.8222,140.7475,japan,jp,jpn,aomori,admin,276567.0,1392083898\\n',\n",
       " 'aosta,aosta,45.736999999999995,7.315,italy,it,ita,valle d’aosta,admin,34062.0,1380291310\\n',\n",
       " 'apac,apac,1.9845,32.534,uganda,ug,uga,apac,admin,,1800174030\\n',\n",
       " 'apache junction,apache junction,33.3985,-111.5351,united states,us,usa,arizona,,42571.0,1840019365\\n',\n",
       " 'apan,apan,19.7,-98.4333,mexico,mx,mex,hidalgo,minor,39247.0,1484086106\\n',\n",
       " 'apapa,apapa,6.4489,3.3589,nigeria,ng,nga,lagos,minor,217362.0,1566625487\\n',\n",
       " 'apaseo el alto,apaseo el alto,20.45,-100.6167,mexico,mx,mex,guanajuato,minor,64443.0,1484638153\\n',\n",
       " 'apatin,apatin,45.6667,18.9833,serbia,rs,srb,apatin,admin,,1688081748\\n',\n",
       " 'apatity,apatity,67.5675,33.3933,russia,ru,rus,murmanskaya oblast’,,55713.0,1643183303\\n',\n",
       " 'apatzingan de la constitucion,apatzingan de la constitucion,19.0886,-102.3508,mexico,mx,mex,michoacán de ocampo,,128250.0,1484693242\\n',\n",
       " 'apaxco de ocampo,apaxco de ocampo,19.9733,-99.17,mexico,mx,mex,hidalgo,minor,13836.0,1484505240\\n',\n",
       " 'apače,apace,46.6972,15.9106,slovenia,si,svn,apače,admin,,1705285338\\n',\n",
       " 'ape,ape,57.5392,26.6928,latvia,lv,lva,apes novads,admin,876.0,1428396055\\n',\n",
       " 'apex,apex,35.7239,-78.8728,united states,us,usa,north carolina,,59300.0,1840015355\\n',\n",
       " 'apia,apia,-13.8333,-171.8333,samoa,ws,wsm,tuamasaga,primary,37708.0,1882489296\\n',\n",
       " 'apiaí,apiai,-24.5097,-48.8428,brazil,br,bra,são paulo,,25211.0,1076258648\\n',\n",
       " 'apizaco,apizaco,19.4167,-98.1333,mexico,mx,mex,tlaxcala,minor,81565.0,1484021647\\n',\n",
       " 'apodi,apodi,-5.65,-37.8,brazil,br,bra,rio grande do norte,,16757.0,1076092856\\n',\n",
       " 'apolda,apolda,51.0247,11.5139,germany,de,deu,thuringia,minor,22012.0,1276857102\\n',\n",
       " 'apollo beach,apollo beach,27.7618,-82.4002,united states,us,usa,florida,,19457.0,1840014149\\n',\n",
       " 'apolo,apolo,-14.7196,-68.42,bolivia,bo,bol,la paz,,4189.0,1068238601\\n',\n",
       " 'apopka,apopka,28.7014,-81.5304,united states,us,usa,florida,,53447.0,1840014093\\n',\n",
       " 'apostolove,apostolove,47.6595,33.717,ukraine,ua,ukr,dnipropetrovs’ka oblast’,minor,13792.0,1804423281\\n',\n",
       " 'appenzell,appenzell,47.3333,9.4167,switzerland,ch,che,appenzell innerrhoden,admin,5649.0,1756770881\\n',\n",
       " 'apple valley,apple valley,44.7457,-93.2006,united states,us,usa,minnesota,,55135.0,1840006768\\n',\n",
       " 'apple valley,apple valley,40.4389,-82.3481,united states,us,usa,ohio,,5408.0,1840026491\\n',\n",
       " 'apple valley,apple valley,34.5328,-117.2104,united states,us,usa,california,,73453.0,1840021733\\n',\n",
       " 'appleton,appleton,44.2779,-88.3891,united states,us,usa,wisconsin,,220570.0,1840002400\\n',\n",
       " 'appleton,appleton,53.3508,-2.5441,united kingdom,gb,gbr,warrington,,10265.0,1826486906\\n',\n",
       " 'applewood,applewood,39.7524,-105.1605,united states,us,usa,colorado,,8308.0,1840028573\\n',\n",
       " 'appley bridge,appley bridge,53.57899999999999,-2.721,united kingdom,gb,gbr,lancashire,,18500.0,1826409679\\n',\n",
       " 'apsheronsk,apsheronsk,44.4608,39.7406,russia,ru,rus,krasnodarskiy kray,minor,39762.0,1643014988\\n',\n",
       " 'aptos,aptos,36.9912,-121.8934,united states,us,usa,california,,5797.0,1840017648\\n',\n",
       " 'apucarana,apucarana,-23.55,-51.47,brazil,br,bra,paraná,,107085.0,1076256387\\n',\n",
       " 'aqadyr,aqadyr,48.2749,72.8599,kazakhstan,kz,kaz,qaraghandy,,9710.0,1398472084\\n',\n",
       " 'aqsū,aqsu,52.0333,76.9167,kazakhstan,kz,kaz,pavlodar,,69354.0,1398272761\\n',\n",
       " 'aqsū,aqsu,52.4502,71.9597,kazakhstan,kz,kaz,aqmola,,8543.0,1398268556\\n',\n",
       " 'aqtaū,aqtau,43.65,51.15,kazakhstan,kz,kaz,mangghystaū,admin,183350.0,1398046759\\n',\n",
       " 'aqtöbe,aqtobe,50.3,57.1667,kazakhstan,kz,kaz,aqtöbe,admin,387807.0,1398602716\\n',\n",
       " 'aquia harbour,aquia harbour,38.4597,-77.3806,united states,us,usa,virginia,,6805.0,1840006216\\n',\n",
       " 'aquidauana,aquidauana,-20.4711,-55.7872,brazil,br,bra,mato grosso do sul,,40803.0,1076120417\\n',\n",
       " 'ar ramādī,ar ramadi,33.4167,43.3,iraq,iq,irq,al anbār,admin,456853.0,1368838855\\n',\n",
       " 'ar raqqah,ar raqqah,35.95,39.0167,syria,sy,syr,ar raqqah,admin,196529.0,1760035911\\n',\n",
       " 'ar rastan,ar rastan,34.9167,36.7333,syria,sy,syr,ḩimş,minor,61176.0,1760205423\\n',\n",
       " 'ar rawḑah,ar rawdah,14.48,47.27,yemen,ye,yem,shabwah,minor,6649.0,1887271386\\n',\n",
       " 'ar rayyān,ar rayyan,25.2919,51.4244,qatar,qa,qat,ar rayyān,admin,,1634097551\\n',\n",
       " 'ar raḩmānīyah,ar rahmaniyah,31.1062,30.6337,egypt,eg,egy,al buḩayrah,,29393.0,1818669069\\n',\n",
       " 'ar rommani,ar rommani,33.5333,-6.6,morocco,ma,mar,rabat-salé-kénitra,,12297.0,1504782261\\n',\n",
       " 'ar rustāq,ar rustaq,23.3908,57.4244,oman,om,omn,janūb al bāţinah,admin,,1512376854\\n',\n",
       " 'ar ruţbah,ar rutbah,33.0333,40.2833,iraq,iq,irq,al anbār,minor,22370.0,1368174661\\n',\n",
       " 'arab,arab,34.3309,-86.4991,united states,us,usa,alabama,,8342.0,1840013600\\n',\n",
       " 'aracaju,aracaju,-10.9111,-37.0717,brazil,br,bra,sergipe,admin,685356.0,1076527830\\n',\n",
       " 'aracati,aracati,-4.5617,-37.7697,brazil,br,bra,ceará,,44293.0,1076708817\\n',\n",
       " 'arad,arad,46.1667,21.3167,romania,ro,rou,arad,admin,159074.0,1642996909\\n',\n",
       " 'arafat,arafat,18.0583,-15.9621,mauritania,mr,mrt,nouakchott sud,admin,,1478174698\\n',\n",
       " 'araguari,araguari,-18.6489,-48.1869,brazil,br,bra,minas gerais,,116871.0,1076402865\\n',\n",
       " 'araguaína,araguaina,-7.19,-48.21,brazil,br,bra,tocantins,,50444.0,1076632868\\n',\n",
       " 'aral,aral,46.8,61.6667,kazakhstan,kz,kaz,qyzylorda,,29887.0,1398109811\\n',\n",
       " 'aramil,aramil,56.7,60.8333,russia,ru,rus,sverdlovskaya oblast’,,15236.0,1643755465\\n',\n",
       " 'aramina,aramina,-20.1672,-47.8265,brazil,br,bra,são paulo,,5486.0,1076022346\\n',\n",
       " 'arandu,arandu,-23.1706,-49.0586,brazil,br,bra,são paulo,,6351.0,1076369696\\n',\n",
       " 'aranguez,aranguez,10.6472,-61.4461,trinidad and tobago,tt,tto,san juan/laventille,admin,,1780000001\\n',\n",
       " 'aransas pass,aransas pass,27.8877,-97.1134,united states,us,usa,texas,,8388.0,1840019708\\n',\n",
       " 'aranyaprathet,aranyaprathet,13.6928,102.5017,thailand,th,tha,sa kaeo,minor,16211.0,1764167237\\n',\n",
       " 'aranđelovac,arandelovac,44.3042,20.5561,serbia,rs,srb,aranđelovac,admin,,1688854200\\n',\n",
       " 'arao,arao,32.9867,130.4333,japan,jp,jpn,kumamoto,,51325.0,1392439718\\n',\n",
       " 'araouane,araouane,18.9,-3.53,mali,ml,mli,tombouctou,,4026.0,1466354924\\n',\n",
       " 'arapiraca,arapiraca,-9.7525,-36.6611,brazil,br,bra,alagoas,,187668.0,1076615737\\n',\n",
       " 'arapongas,arapongas,-23.41,-51.43,brazil,br,bra,paraná,,97512.0,1076623771\\n',\n",
       " 'araranguá,ararangua,-28.9357,-49.4954,brazil,br,bra,santa catarina,,43444.0,1076532332\\n',\n",
       " 'araraquara,araraquara,-21.7939,-48.1758,brazil,br,bra,são paulo,,226508.0,1076251019\\n',\n",
       " 'araras,araras,-22.3569,-47.3839,brazil,br,bra,são paulo,,128895.0,1076656148\\n',\n",
       " 'ararat,ararat,-37.2833,142.9167,australia,au,aus,victoria,,8300.0,1036674088\\n',\n",
       " 'arauca,arauca,7.0903,-70.7617,colombia,co,col,arauca,admin,96814.0,1170322340\\n',\n",
       " 'arauco,arauco,-37.2463,-73.3175,chile,cl,chl,biobío,,17597.0,1152468620\\n',\n",
       " 'araure,araure,9.5667,-69.2167,venezuela,ve,ven,portuguesa,minor,188800.0,1862226710\\n',\n",
       " 'arawa,arawa,-6.228,155.566,papua new guinea,pg,png,bougainville,,40266.0,1598413091\\n',\n",
       " 'araxá,araxa,-19.5928,-46.9408,brazil,br,bra,minas gerais,,103287.0,1076259402\\n',\n",
       " 'araçariguama,aracariguama,-23.4386,-47.0614,brazil,br,bra,são paulo,,20114.0,1076653796\\n',\n",
       " 'araçatuba,aracatuba,-21.2089,-50.4328,brazil,br,bra,são paulo,,192757.0,1076630308\\n',\n",
       " 'araçoiaba da serra,aracoiaba da serra,-23.5053,-47.6142,brazil,br,bra,são paulo,,31321.0,1076732508\\n',\n",
       " 'araçuaí,aracuai,-16.8596,-42.0699,brazil,br,bra,minas gerais,,22005.0,1076501078\\n',\n",
       " 'aračinovo,aracinovo,42.0264,21.5619,macedonia,mk,mkd,aračinovo,admin,,1807619539\\n',\n",
       " 'arbon,arbon,47.5167,9.4333,switzerland,ch,che,thurgau,,14537.0,1756486653\\n',\n",
       " 'arbroath,arbroath,56.56100000000001,-2.5860000000000003,united kingdom,gb,gbr,angus,,23490.0,1826263581\\n',\n",
       " 'arbutus,arbutus,39.2428,-76.6922,united states,us,usa,maryland,,20259.0,1840005676\\n',\n",
       " 'arcadia,arcadia,43.0871,-77.0857,united states,us,usa,new york,,13699.0,1840087174\\n',\n",
       " 'arcadia,arcadia,27.2213,-81.8587,united states,us,usa,florida,,19038.0,1840014187\\n',\n",
       " 'arcadia,arcadia,34.1342,-118.0373,united states,us,usa,california,,57939.0,1840019223\\n',\n",
       " 'arcata,arcata,40.8615,-124.0757,united states,us,usa,california,,34616.0,1840009422\\n',\n",
       " 'archbald,archbald,41.5077,-75.5453,united states,us,usa,pennsylvania,,7030.0,1840003374\\n',\n",
       " 'archdale,archdale,35.9033,-79.9592,united states,us,usa,north carolina,,11513.0,1840013399\\n',\n",
       " 'archer lodge,archer lodge,35.6907,-78.3749,united states,us,usa,north carolina,,15972.0,1840025797\\n',\n",
       " 'archángelos,archangelos,36.2167,28.1167,greece,gr,grc,notío aigaío,,5384.0,1300451264\\n',\n",
       " 'arcos de la frontera,arcos de la frontera,36.7483,-5.8063,spain,es,esp,andalusia,,30700.0,1724851482\\n',\n",
       " 'arcoverde,arcoverde,-8.42,-37.07,brazil,br,bra,pernambuco,,57163.0,1076499713\\n',\n",
       " 'arcozelo,arcozelo,41.0555,-8.6395,portugal,pt,prt,porto,,12393.0,1620153472\\n',\n",
       " 'arcueil,arcueil,48.8075,2.3361,france,fr,fra,île-de-france,,21501.0,1250317790\\n',\n",
       " 'ardabīl,ardabil,38.25,48.3,iran,ir,irn,ardabīl,admin,482632.0,1364437616\\n',\n",
       " 'ardahan,ardahan,41.1167,42.7,turkey,tr,tur,ardahan,admin,42226.0,1792379425\\n',\n",
       " 'ardanuç,ardanuc,41.1233,42.0647,turkey,tr,tur,artvin,minor,12056.0,1792304431\\n',\n",
       " 'arden hills,arden hills,45.0721,-93.167,united states,us,usa,minnesota,,10281.0,1840006752\\n',\n",
       " 'arden-arcade,arden-arcade,38.6034,-121.381,united states,us,usa,california,,100548.0,1840036690\\n',\n",
       " 'ardestān,ardestan,33.3797,52.3725,iran,ir,irn,eşfahān,minor,14698.0,1364684540\\n',\n",
       " 'ardino,ardino,41.5833,25.1333,bulgaria,bg,bgr,kardzhali,,10336.0,1100759594\\n',\n",
       " 'ardmore,ardmore,40.0033,-75.2947,united states,us,usa,pennsylvania,,13083.0,1840005455\\n',\n",
       " 'ardmore,ardmore,34.1944,-97.1253,united states,us,usa,oklahoma,,21245.0,1840019258\\n',\n",
       " 'ardon,ardon,43.1667,44.2833,russia,ru,rus,north ossetia,,19412.0,1643992333\\n',\n",
       " 'ardrossan,ardrossan,55.6432,-4.8097,united kingdom,gb,gbr,north ayrshire,,10952.0,1826874237\\n',\n",
       " 'ardud,ardud,47.6333,22.8833,romania,ro,rou,satu mare,,6231.0,1642782986\\n',\n",
       " 'arealva,arealva,-22.0286,-48.9111,brazil,br,bra,são paulo,,8351.0,1076417809\\n',\n",
       " 'arecibo,arecibo,18.4491,-66.7387,puerto rico,pr,pri,puerto rico,,40108.0,1630023566\\n',\n",
       " 'areguá,aregua,-25.3125,-57.3847,paraguay,py,pry,central,admin,,1600141362\\n',\n",
       " 'areiópolis,areiopolis,-22.6681,-48.665,brazil,br,bra,são paulo,,11049.0,1076875790\\n',\n",
       " 'arendal,arendal,58.4617,8.7721,norway,no,nor,aust-agder,admin,30916.0,1578533046\\n',\n",
       " 'arequipa,arequipa,-16.3988,-71.5369,peru,pe,per,arequipa,admin,1008290.0,1604723954\\n',\n",
       " 'arezzo,arezzo,43.4617,11.875,italy,it,ita,tuscany,minor,91589.0,1380418355\\n',\n",
       " 'arganil,arganil,40.2167,-8.05,portugal,pt,prt,coimbra,minor,12145.0,1620980524\\n',\n",
       " 'argenteuil,argenteuil,48.95,2.25,france,fr,fra,île-de-france,minor,110210.0,1250226887\\n',\n",
       " 'argoncilhe,argoncilhe,41.0167,-8.55,portugal,pt,prt,aveiro,,8420.0,1620670627\\n',\n",
       " 'argostóli,argostoli,38.1739,20.4883,greece,gr,grc,ionía nísia,minor,9748.0,1300532537\\n',\n",
       " 'argun,argun,43.3,45.8667,russia,ru,rus,chechnya,,37373.0,1643005496\\n',\n",
       " 'argyle,argyle,43.8,-65.85,canada,ca,can,nova scotia,,7899.0,1124503052\\n',\n",
       " 'arhavi,arhavi,41.3531,41.31,turkey,tr,tur,artvin,minor,20565.0,1792000779\\n',\n",
       " 'ariana,ariana,36.8667,10.2,tunisia,tn,tun,l’ariana,admin,97687.0,1788682546\\n',\n",
       " 'arica,arica,-18.4784,-70.3211,chile,cl,chl,arica y parinacota,admin,202131.0,1152531089\\n',\n",
       " 'aridaía,aridaia,40.975,22.0583,greece,gr,grc,kentrikí makedonía,minor,6561.0,1300115599\\n',\n",
       " 'arilje,arilje,43.7519,20.0906,serbia,rs,srb,arilje,admin,,1688798017\\n',\n",
       " 'arima,arima,10.6374,-61.2823,trinidad and tobago,tt,tto,arima,admin,,1780753308\\n',\n",
       " 'aripuanã,aripuana,-9.17,-60.64,brazil,br,bra,mato grosso,,26983.0,1076078271\\n',\n",
       " 'ariquemes,ariquemes,-9.9396,-63.08,brazil,br,bra,rondônia,,58096.0,1076442639\\n',\n",
       " 'ariranha,ariranha,-21.1878,-48.7869,brazil,br,bra,são paulo,,9277.0,1076878901\\n',\n",
       " 'aristóbulo del valle,aristobulo del valle,-27.0952,-54.897,argentina,ar,arg,misiones,,38000.0,1032611762\\n',\n",
       " 'arizona city,arizona city,32.7506,-111.6707,united states,us,usa,arizona,,11761.0,1840018030\\n',\n",
       " 'arjona,arjona,10.26,-75.35,colombia,co,col,bolívar,minor,50405.0,1170602407\\n',\n",
       " 'arkadak,arkadak,51.9333,43.5,russia,ru,rus,saratovskaya oblast’,,11895.0,1643300892\\n',\n",
       " 'arkadelphia,arkadelphia,34.1255,-93.0725,united states,us,usa,arkansas,,10503.0,1840013638\\n',\n",
       " 'arkansas city,arkansas city,37.0726,-97.0385,united states,us,usa,kansas,,12242.0,1840001700\\n',\n",
       " 'arkhangelsk,arkhangelsk,64.55,40.5333,russia,ru,rus,arkhangel’skaya oblast’,admin,351488.0,1643797198\\n',\n",
       " 'arles,arles,43.6767,4.6278,france,fr,fra,provence-alpes-côte d’azur,minor,52548.0,1250682294\\n',\n",
       " 'arlesey,arlesey,52.007,-0.2654,united kingdom,gb,gbr,central bedfordshire,,5584.0,1826582609\\n',\n",
       " 'arlesheim,arlesheim,47.4922,7.6203,switzerland,ch,che,basel-landschaft,,9202.0,1756790806\\n',\n",
       " 'arlington,arlington,35.2594,-89.66799999999999,united states,us,usa,tennessee,,11728.0,1840015458\\n',\n",
       " 'arlington,arlington,42.4187,-71.164,united states,us,usa,massachusetts,,45147.0,1840053631\\n',\n",
       " 'arlington,arlington,48.1698,-122.1443,united states,us,usa,washington,,20523.0,1840018378\\n',\n",
       " 'arlington,arlington,38.8786,-77.1011,united states,us,usa,virginia,,231803.0,1840006112\\n',\n",
       " 'arlington,arlington,32.6998,-97.125,united states,us,usa,texas,,398854.0,1840019422\\n',\n",
       " 'arlington heights,arlington heights,42.0955,-87.9825,united states,us,usa,illinois,,74760.0,1840011243\\n',\n",
       " 'arlington heights,arlington heights,41.0039,-75.2116,united states,us,usa,pennsylvania,,5439.0,1840034849\\n',\n",
       " 'arlit,arlit,18.82,7.33,niger,ne,ner,agadez,minor,100000.0,1562695011\\n',\n",
       " 'arlon,arlon,49.6836,5.8167,belgium,be,bel,wallonia,minor,29733.0,1056746428\\n',\n",
       " 'armadale,armadale,55.8978,-3.7047,united kingdom,gb,gbr,west lothian,,9063.0,1826278494\\n',\n",
       " 'armamar,armamar,41.1167,-7.6833,portugal,pt,prt,viseu,minor,6297.0,1620182147\\n',\n",
       " 'armant,armant,25.6167,32.5333,egypt,eg,egy,qinā,,76457.0,1818701870\\n',\n",
       " 'armavir,armavir,45.0,41.1167,russia,ru,rus,krasnodarskiy kray,,190709.0,1643809754\\n',\n",
       " 'armavir,armavir,40.15,44.04,armenia,am,arm,armavir,admin,28800.0,1051878002\\n',\n",
       " 'armenia,armenia,4.5389,-75.6725,colombia,co,col,quindío,admin,301226.0,1170398459\\n',\n",
       " 'armentières,armentieres,50.6881,2.8811,france,fr,fra,hauts-de-france,,24882.0,1250737647\\n',\n",
       " 'armidale,armidale,-30.5,151.65,australia,au,aus,new south wales,,24504.0,1036975829\\n',\n",
       " 'armthorpe,armthorpe,53.5352,-1.0522,united kingdom,gb,gbr,doncaster,,14457.0,1826961585\\n',\n",
       " 'armyans’k,armyans\\'k,46.1072,33.6933,ukraine,ua,ukr,\"krym, avtonomna respublika\",,21956.0,1804358362\\n',\n",
       " 'armūr,armur,18.79,78.29,india,in,ind,telangana,,64023.0,1356043277\\n',\n",
       " 'arnhem,arnhem,51.988,5.922999999999999,netherlands,nl,nld,gelderland,admin,141674.0,1528862562\\n',\n",
       " 'arnold,arnold,38.4296,-90.3733,united states,us,usa,missouri,,21091.0,1840007506\\n',\n",
       " 'arnold,arnold,39.0437,-76.4974,united states,us,usa,maryland,,23518.0,1840005907\\n',\n",
       " 'arnold,arnold,53.005,-1.127,united kingdom,gb,gbr,nottinghamshire,,37768.0,1826647385\\n',\n",
       " 'arnprior,arnprior,45.4333,-76.35,canada,ca,can,ontario,,8795.0,1124700031\\n',\n",
       " 'arnsberg,arnsberg,51.3967,8.0644,germany,de,deu,north rhine-westphalia,,73628.0,1276285824\\n',\n",
       " 'arnstadt,arnstadt,50.8342,10.9464,germany,de,deu,thuringia,minor,27304.0,1276728389\\n',\n",
       " 'arnstedt,arnstedt,51.6833,11.4667,germany,de,deu,saxony-anhalt,,6616.0,1276201188\\n',\n",
       " 'arnstein,arnstein,49.9667,9.9833,germany,de,deu,bavaria,,8125.0,1276400726\\n',\n",
       " 'arolsen,arolsen,51.3778,9.0167,germany,de,deu,hesse,,15470.0,1276460820\\n',\n",
       " 'arqalyq,arqalyq,50.2486,66.9114,kazakhstan,kz,kaz,qostanay,,28169.0,1398980293\\n',\n",
       " 'arraiolos,arraiolos,38.7229,-7.9843,portugal,pt,prt,évora,minor,7363.0,1620818948\\n',\n",
       " 'arran-elderslie,arran-elderslie,44.4,-81.2,canada,ca,can,ontario,,6803.0,1124001766\\n',\n",
       " 'arras,arras,50.292,2.78,france,fr,fra,hauts-de-france,minor,41019.0,1250447540\\n',\n",
       " 'arrecife,arrecife,28.9625,-13.5506,spain,es,esp,canary islands,,62988.0,1724630905\\n',\n",
       " 'arroyo,arroyo,17.9706,-66.0609,puerto rico,pr,pri,puerto rico,,6134.0,1630035613\\n',\n",
       " 'arroyo grande,arroyo grande,35.1241,-120.5845,united states,us,usa,california,,54177.0,1840019125\\n',\n",
       " 'arroyo seco,arroyo seco,21.5472,-99.6883,mexico,mx,mex,querétaro,minor,12493.0,1484500576\\n',\n",
       " 'arroyo de la luz,arroyo de la luz,39.484,-6.5846,spain,es,esp,extremadura,,5811.0,1724665069\\n',\n",
       " 'arroyos y esteros,arroyos y esteros,-25.05,-57.09,paraguay,py,pry,cordillera,,3055.0,1600827428\\n',\n",
       " 'arruda dos vinhos,arruda dos vinhos,38.9833,-9.0667,portugal,pt,prt,lisboa,minor,13391.0,1620150819\\n',\n",
       " 'arsenyev,arsenyev,44.1667,133.2667,russia,ru,rus,primorskiy kray,,52471.0,1643534912\\n',\n",
       " 'arsk,arsk,56.0906,49.8764,russia,ru,rus,tatarstan,,20540.0,1643889493\\n',\n",
       " 'arta,arta,11.5264,42.8519,djibouti,dj,dji,arta,admin,,1262889858\\n',\n",
       " 'artashat,artashat,39.9539,44.5506,armenia,am,arm,ararat,admin,25400.0,1051969157\\n',\n",
       " 'artemisa,artemisa,22.8136,-82.7633,cuba,cu,cub,artemisa,admin,59130.0,1192325408\\n',\n",
       " 'artemivsk,artemivsk,48.4403,38.7422,ukraine,ua,ukr,luhans’ka oblast’,,7506.0,1804988052\\n',\n",
       " ...]"
      ]
     },
     "metadata": {},
     "execution_count": 102
    }
   ],
   "source": [
    "data"
   ]
  },
  {
   "cell_type": "code",
   "execution_count": null,
   "metadata": {},
   "outputs": [],
   "source": []
  }
 ]
}