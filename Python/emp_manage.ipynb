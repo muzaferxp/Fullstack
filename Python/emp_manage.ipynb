{
 "metadata": {
  "language_info": {
   "codemirror_mode": {
    "name": "ipython",
    "version": 3
   },
   "file_extension": ".py",
   "mimetype": "text/x-python",
   "name": "python",
   "nbconvert_exporter": "python",
   "pygments_lexer": "ipython3",
   "version": "3.9.0-final"
  },
  "orig_nbformat": 2,
  "kernelspec": {
   "name": "python3",
   "display_name": "Python 3.9.0 64-bit",
   "metadata": {
    "interpreter": {
     "hash": "c7192cbc191bcb1e11eb24b740d9d922bf147b1b4b27d90b14d37bd8ac6ff684"
    }
   }
  }
 },
 "nbformat": 4,
 "nbformat_minor": 2,
 "cells": [
  {
   "cell_type": "code",
   "execution_count": 1,
   "metadata": {},
   "outputs": [
    {
     "output_type": "stream",
     "name": "stdout",
     "text": [
      "{'emp_data': {'Adam': {'Skils': ['Python-Flask', 'Python'], 'hours': 4}, 'Sam': {'Skils': ['Html', 'Css'], 'hours': 4}, 'David': {'Skils': ['MySQL', 'Flask', 'Python'], 'hours': 8}}, 'current_projects': {'SPMS': {'Employees': {'Adam': {'hours': 8, 'Skills': ['Python']}, 'Sam': {'hours': 8, 'Skills': ['HTML']}}}, 'BLOGGING WEBSITE': {'Employees': {'Adam': {'hours': 8, 'Skills': ['Python']}, 'Sam': {'hours': 4, 'Skills': ['HTML']}}}}}\n"
     ]
    }
   ],
   "source": [
    "import json \n",
    "\n",
    "\n",
    "#==============================EMPLOYEE MANAGEMENT===============\n",
    "#expected output\n",
    "#1. Find employees how are having required skills\n",
    "\n",
    "#2. Find which emp is free at the moment\n",
    "\n",
    "#3. if skilled and available then assign a project\n",
    "\n",
    "#4. remove satisfied req\n",
    "\n",
    "#5. add emps in same project\n",
    "\n",
    "#====demo data====\n",
    "\n",
    "empfile = open(\"emp_data.json\", \"r\")\n",
    "\n",
    "filedata = json.load(empfile)\n",
    "\n",
    "emp = filedata[\"emp_data\"]\n",
    "\n",
    "current_projects = filedata[\"current_projects\"]\n",
    "\n",
    "empfile.close()\n",
    "\n",
    "\n",
    "print(filedata)"
   ]
  },
  {
   "cell_type": "code",
   "execution_count": 2,
   "metadata": {},
   "outputs": [],
   "source": [
    "def update_data():\n",
    "    empfile = open(\"emp_data.json\", \"w\")\n",
    "\n",
    "    obj = {}\n",
    "\n",
    "    obj[\"emp_data\"] = emp\n",
    "\n",
    "    obj[\"current_projects\"] = current_projects\n",
    "\n",
    "    empfile.write(json.dumps(obj, indent=4))\n",
    "\n",
    "    empfile.close()\n",
    "\n",
    "def to_lower(listdata):\n",
    "    temp = [item.lower()  for item in listdata]\n",
    "    return temp\n",
    "\n",
    "def delete_project(project_name):\n",
    "    if project_name in current_projects:\n",
    "        current_projects.pop(project_name)\n",
    "\n",
    "def delete_emp_from_project(project_name,emp_name):\n",
    "    if emp_name in current_projects[project_name][\"Employees\"]:\n",
    "        current_projects[project_name][\"Employees\"].pop(emp_name)\n",
    "\n",
    "def assign_project(project_name,emp_name,req_time,skill):\n",
    "    emp_details = {}\n",
    "    emp_details[\"hours\"] = req_time\n",
    "    emp_details[\"Skills\"] = [skill]\n",
    "\n",
    "    emp[emp_name][\"hours\"] = emp[emp_name][\"hours\"] - req_time\n",
    "\n",
    "    if project_name not in current_projects:  #--------------------------CHECKING IF PROJECT ALREADY ADDED OR NOT\n",
    "\n",
    "        current_projects[project_name] = {}\n",
    "\n",
    "        current_projects[project_name][\"Employees\"] = {}\n",
    "\n",
    "    if emp_name not in current_projects[project_name][\"Employees\"]:\n",
    "\n",
    "        print(\"ELSE EXECUTED\")\n",
    "\n",
    "        current_projects[project_name][\"Employees\"][emp_name]  =  emp_details\n",
    "\n",
    "    else:\n",
    "\n",
    "        print(\"ELSE EXECUTED\")\n",
    "\n",
    "        current_projects[project_name][\"Employees\"][emp_name][\"hours\"] += req_time\n",
    "\n",
    "        emp_skils = current_projects[project_name][\"Employees\"][emp_name][\"Skills\"]\n",
    "\n",
    "        emp_skils.append(skill)\n",
    "\n",
    "        print(\"=======EMP_SKILLS========\", emp_skils)\n",
    "\n",
    "        current_projects[project_name][\"Employees\"][emp_name][\"Skills\"] = list(set(emp_skils))\n",
    "\n",
    "    update_data()\n",
    "\n",
    "    #print(\"Project assigned successfully!\")\n",
    "    #MySQLprint(current_projects)\n",
    "\n",
    "def search_req(req, req_time, project_name):\n",
    "    for x in emp:\n",
    "        for req_skill in req:  #------------------------LOOPING on required skills\n",
    "            #-----------------------------LOOPING on employess to find skill\n",
    "            if req_skill.lower() in to_lower(emp[x][\"Skils\"]): #------CHECKING required skill\n",
    "                print(\"=====================SKILL FOUND================\", req_skill)\n",
    "                #print(req_skill, \"FOUND in \", x )\n",
    "                av = emp[x][\"hours\"]\n",
    "                if av > 0: #------------------------CHECKING AVAILABILITY------\n",
    "                    if av >= req_time:\n",
    "                        #print(x , \"is available\")\n",
    "                        if req_skill in req:\n",
    "                            print(\"-----REMOVED----\", req_skill)\n",
    "                            req.remove(req_skill)\n",
    "                        assign_project(project_name,x,req_time,req_skill)\n",
    "                        \n",
    "                        #assign a project\n",
    "                    else:\n",
    "                        #print(x , \"is not available, he can spend only \", av, \"hours\")\n",
    "                        pass\n",
    "                else:\n",
    "                    #print(\"But\" ,x , \"is not available\")\n",
    "                    pass\n",
    "            else:\n",
    "                #print(req_skill , \"Skill not found in \", x)\n",
    "                pass\n",
    "    print(\"Pending\", req)\n",
    "\n",
    "\n"
   ]
  },
  {
   "cell_type": "code",
   "execution_count": 3,
   "metadata": {},
   "outputs": [
    {
     "output_type": "stream",
     "name": "stdout",
     "text": [
      "=====================SKILL FOUND================ Python\n-----REMOVED---- Python\nELSE EXECUTED\n=======EMP_SKILLS======== ['Python', 'Python']\n=====================SKILL FOUND================ HTML\n-----REMOVED---- HTML\nELSE EXECUTED\n=======EMP_SKILLS======== ['HTML', 'HTML']\nPending ['CSS', 'JAVASCRIPT']\n"
     ]
    }
   ],
   "source": [
    "req = [\"HTML\", \"Python\", \"CSS\" , \"JAVASCRIPT\"]\n",
    "search_req(req, 4, \"BLOGGING WEBSITE\")"
   ]
  },
  {
   "cell_type": "code",
   "execution_count": 109,
   "metadata": {},
   "outputs": [],
   "source": []
  },
  {
   "cell_type": "code",
   "execution_count": 4,
   "metadata": {},
   "outputs": [],
   "source": [
    "\n",
    "update_data()"
   ]
  },
  {
   "cell_type": "code",
   "execution_count": 6,
   "metadata": {},
   "outputs": [
    {
     "output_type": "execute_result",
     "data": {
      "text/plain": [
       "{'Adam': {'Skils': ['Python-Flask', 'Python'], 'hours': 0},\n",
       " 'Sam': {'Skils': ['Html', 'Css'], 'hours': 0},\n",
       " 'David': {'Skils': ['MySQL', 'Flask', 'Python'], 'hours': 8}}"
      ]
     },
     "metadata": {},
     "execution_count": 6
    }
   ],
   "source": [
    "emp\n"
   ]
  },
  {
   "cell_type": "code",
   "execution_count": null,
   "metadata": {},
   "outputs": [],
   "source": [
    "\n",
    "def emp_data():\n",
    "    empfile = open(\"emp_data.json\", \"r\")\n",
    "    filedata = json.load(empfile)\n",
    "    empfile.close()\n",
    "    return filedata\n",
    "\n",
    " def delete_emp(emp):\n",
    "    empdata = emp_data()[\"emp_data\"]\n",
    "    print(empdata)\n",
    "    \n"
   ]
  }
 ]
}