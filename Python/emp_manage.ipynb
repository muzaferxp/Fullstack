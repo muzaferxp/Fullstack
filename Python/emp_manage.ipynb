{
 "metadata": {
  "language_info": {
   "codemirror_mode": {
    "name": "ipython",
    "version": 3
   },
   "file_extension": ".py",
   "mimetype": "text/x-python",
   "name": "python",
   "nbconvert_exporter": "python",
   "pygments_lexer": "ipython3",
   "version": "3.9.0-final"
  },
  "orig_nbformat": 2,
  "kernelspec": {
   "name": "python3",
   "display_name": "Python 3.9.0 64-bit",
   "metadata": {
    "interpreter": {
     "hash": "c7192cbc191bcb1e11eb24b740d9d922bf147b1b4b27d90b14d37bd8ac6ff684"
    }
   }
  }
 },
 "nbformat": 4,
 "nbformat_minor": 2,
 "cells": [
  {
   "cell_type": "code",
   "execution_count": 7,
   "metadata": {},
   "outputs": [],
   "source": [
    "#==============================EMPLOYEE MANAGEMENT===============\n",
    "#expected output\n",
    "#1. Find employees how are having required skills\n",
    "\n",
    "#2. Find which emp is free at the moment\n",
    "\n",
    "#3. if skilled and available then assign a project\n",
    "\n",
    "#====demo data====\n",
    "\n",
    "emp = {\n",
    "    \"Adam\" : {\n",
    "        \"Skils\" : [\"Python\", \"Flask\"],\n",
    "        \"hours\" : 8\n",
    "    },\n",
    "    \"Sam\"  : {\n",
    "        \"Skils\" : [\"Html\", \"Css\"],\n",
    "        \"hours\" : 0\n",
    "    },\n",
    "    \"David\" : {\n",
    "        \"Skils\" : [\"MySQL\", \"Python\"],\n",
    "        \"hours\" : 8\n",
    "    }\n",
    "}\n",
    "\n",
    "current_projects = {}\n"
   ]
  },
  {
   "cell_type": "code",
   "execution_count": 9,
   "metadata": {},
   "outputs": [
    {
     "output_type": "stream",
     "name": "stdout",
     "text": [
      "['Python', 'Html']\nPython FOUND in  Adam\nAdam is available\nPython FOUND in  David\nDavid is available\nHtml FOUND in  Sam\nBut  Sam  is not available\n"
     ]
    }
   ],
   "source": [
    "def search_req(req):\n",
    "    print(req)\n",
    "    for skill in req:\n",
    "        for x in emp:\n",
    "            skills = emp[x][\"Skils\"]\n",
    "            if skill in skills:\n",
    "                print(skill, \"FOUND in \", x )\n",
    "                av = emp[x][\"hours\"]\n",
    "\n",
    "                if av > 0:\n",
    "                    print(x , \"is available\")\n",
    "                else:\n",
    "                    print(\"But\" ,x , \"is not available\")\n",
    "\n",
    "\n",
    "\n",
    "req = [\"Python\", \"Html\"]\n",
    "search_req(req)"
   ]
  },
  {
   "cell_type": "code",
   "execution_count": null,
   "metadata": {},
   "outputs": [],
   "source": []
  }
 ]
}