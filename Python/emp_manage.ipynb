{
 "metadata": {
  "language_info": {
   "codemirror_mode": {
    "name": "ipython",
    "version": 3
   },
   "file_extension": ".py",
   "mimetype": "text/x-python",
   "name": "python",
   "nbconvert_exporter": "python",
   "pygments_lexer": "ipython3",
   "version": "3.9.0-final"
  },
  "orig_nbformat": 2,
  "kernelspec": {
   "name": "python3",
   "display_name": "Python 3.9.0 64-bit",
   "metadata": {
    "interpreter": {
     "hash": "c7192cbc191bcb1e11eb24b740d9d922bf147b1b4b27d90b14d37bd8ac6ff684"
    }
   }
  }
 },
 "nbformat": 4,
 "nbformat_minor": 2,
 "cells": [
  {
   "cell_type": "code",
   "execution_count": 109,
   "metadata": {},
   "outputs": [],
   "source": [
    "import json \n",
    "\n",
    "\n",
    "#==============================EMPLOYEE MANAGEMENT===============\n",
    "#expected output\n",
    "#1. Find employees how are having required skills\n",
    "\n",
    "#2. Find which emp is free at the moment\n",
    "\n",
    "#3. if skilled and available then assign a project\n",
    "\n",
    "#4. remove satisfied req\n",
    "\n",
    "#5. add emps in same project\n",
    "\n",
    "#====demo data====\n",
    "\n",
    "empfile = open(\"emp_data.json\", \"r\")\n",
    "\n",
    "filedata = json.load(empfile)\n",
    "\n",
    "emp = filedata[\"emp_data\"]\n",
    "\n",
    "current_projects = filedata[\"current_projects\"]\n",
    "\n",
    "empfile.close()\n"
   ]
  },
  {
   "cell_type": "code",
   "execution_count": 110,
   "metadata": {},
   "outputs": [],
   "source": [
    "def update_data():\n",
    "    empfile = open(\"emp_data.json\", \"w\")\n",
    "\n",
    "    obj = {}\n",
    "\n",
    "    obj[\"emp_data\"] = emp\n",
    "\n",
    "    obj[\"current_projects\"] = current_projects\n",
    "\n",
    "    empfile.write(json.dumps(obj, indent=4))\n",
    "\n",
    "    empfile.close()\n",
    "\n",
    "\n",
    "\n",
    "def assign_project(project_name,emp_name,req_time,skill):\n",
    "    emp_details = {}\n",
    "    emp_details[\"hours\"] = req_time\n",
    "    emp_details[\"Skills\"] = [skill]\n",
    "\n",
    "    emp[emp_name][\"hours\"] = emp[emp_name][\"hours\"] - req_time\n",
    "\n",
    "    if project_name not in current_projects:  #--------------------------CHECKING IF PROJECT ALREADY ADDED OR NOT\n",
    "        current_projects[project_name] = {}\n",
    "\n",
    "        current_projects[project_name][\"Employees\"] = {}\n",
    "\n",
    "        if emp_name not in current_projects[project_name][\"Employees\"]:\n",
    "\n",
    "            current_projects[project_name][\"Employees\"][emp_name]  =  emp_details\n",
    "\n",
    "        else:\n",
    "\n",
    "            current_projects[project_name][\"Employees\"][emp_name][\"hours\"] += req_time\n",
    "\n",
    "            current_projects[project_name][\"Employees\"][emp_name][\"Skills\"].append(skill)\n",
    "\n",
    "\n",
    "    else:\n",
    "\n",
    "        #current_projects[project_name][\"Employees\"].append(emp_details)\n",
    "\n",
    "        if emp_name not in current_projects[project_name][\"Employees\"]:\n",
    "\n",
    "            current_projects[project_name][\"Employees\"][emp_name]  =  emp_details\n",
    "\n",
    "        else:\n",
    "\n",
    "            current_projects[project_name][\"Employees\"][emp_name][\"hours\"] += req_time\n",
    "\n",
    "            current_projects[project_name][\"Employees\"][emp_name][\"Skills\"].append(skill)\n",
    "\n",
    "    update_data()\n",
    "\n",
    "    #print(\"Project assigned successfully!\")\n",
    "    #MySQLprint(current_projects)\n",
    "\n",
    "def search_req(req, req_time, project_name):\n",
    "    \n",
    "    for req_skill in req:  #------------------------LOOPING on required skills\n",
    "        print(\"Requirement \", req)\n",
    "        \n",
    "        for x in emp: #-----------------------------LOOPING on employess to find skill\n",
    "            if req_skill in emp[x][\"Skils\"]: #------CHECKING required skill\n",
    "                #print(req_skill, \"FOUND in \", x )\n",
    "                av = emp[x][\"hours\"]\n",
    "                if av > 0: #------------------------CHECKING AVAILABILITY------\n",
    "                    if av >= req_time:\n",
    "                        #print(x , \"is available\")\n",
    "                        if req_skill in req:\n",
    "                            print(\"-----REMOVED----\", req_skill)\n",
    "                            req.remove(req_skill)\n",
    "                        assign_project(project_name,x,req_time,req_skill)\n",
    "                        break\n",
    "                        #assign a project\n",
    "                    else:\n",
    "                        #print(x , \"is not available, he can spend only \", av, \"hours\")\n",
    "                        pass\n",
    "                else:\n",
    "                    #print(\"But\" ,x , \"is not available\")\n",
    "                    pass\n",
    "\n"
   ]
  },
  {
   "cell_type": "code",
   "execution_count": 111,
   "metadata": {},
   "outputs": [
    {
     "output_type": "execute_result",
     "data": {
      "text/plain": [
       "{'Meditech': {'Employees': {'David': {'hours': 4, 'Skills': ['MySQL']}}}}"
      ]
     },
     "metadata": {},
     "execution_count": 111
    }
   ],
   "source": [
    "current_projects"
   ]
  },
  {
   "cell_type": "code",
   "execution_count": 115,
   "metadata": {},
   "outputs": [
    {
     "output_type": "stream",
     "name": "stdout",
     "text": [
      "Requirement  ['Flask']\n-----REMOVED---- Flask\n"
     ]
    }
   ],
   "source": [
    "req = [\"Flask\"]\n",
    "search_req(req, 4, \"Bloging website\")"
   ]
  },
  {
   "cell_type": "code",
   "execution_count": 113,
   "metadata": {},
   "outputs": [
    {
     "output_type": "stream",
     "name": "stdout",
     "text": [
      "{\n    \"Meditech\": {\n        \"Employees\": {\n            \"David\": {\n                \"hours\": 8,\n                \"Skills\": [\n                    \"MySQL\",\n                    \"MySQL\"\n                ]\n            }\n        }\n    }\n}\n"
     ]
    }
   ],
   "source": [
    "print(json.dumps(current_projects , indent=4))"
   ]
  },
  {
   "cell_type": "code",
   "execution_count": null,
   "metadata": {},
   "outputs": [],
   "source": []
  }
 ]
}