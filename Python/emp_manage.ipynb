{
 "metadata": {
  "language_info": {
   "codemirror_mode": {
    "name": "ipython",
    "version": 3
   },
   "file_extension": ".py",
   "mimetype": "text/x-python",
   "name": "python",
   "nbconvert_exporter": "python",
   "pygments_lexer": "ipython3",
   "version": "3.9.0-final"
  },
  "orig_nbformat": 2,
  "kernelspec": {
   "name": "python3",
   "display_name": "Python 3.9.0 64-bit",
   "metadata": {
    "interpreter": {
     "hash": "c7192cbc191bcb1e11eb24b740d9d922bf147b1b4b27d90b14d37bd8ac6ff684"
    }
   }
  }
 },
 "nbformat": 4,
 "nbformat_minor": 2,
 "cells": [
  {
   "cell_type": "code",
   "execution_count": 46,
   "metadata": {},
   "outputs": [],
   "source": [
    "#==============================EMPLOYEE MANAGEMENT===============\n",
    "#expected output\n",
    "#1. Find employees how are having required skills\n",
    "\n",
    "#2. Find which emp is free at the moment\n",
    "\n",
    "#3. if skilled and available then assign a project\n",
    "\n",
    "#====demo data====\n",
    "\n",
    "emp = {\n",
    "    \"Adam\" : {\n",
    "        \"Skils\" : [\"Python\", \"Flask\"],\n",
    "        \"hours\" : 8\n",
    "    },\n",
    "    \"Sam\"  : {\n",
    "        \"Skils\" : [\"Html\", \"Css\"],\n",
    "        \"hours\" : 8\n",
    "    },\n",
    "    \"David\" : {\n",
    "        \"Skils\" : [\"MySQL\", \"Python\"],\n",
    "        \"hours\" : 8\n",
    "    }\n",
    "}\n",
    "\n",
    "current_projects = []\n"
   ]
  },
  {
   "cell_type": "code",
   "execution_count": 47,
   "metadata": {},
   "outputs": [],
   "source": [
    "def assign_project(project_name,emp_name,req_time,skill):\n",
    "    obj = {}\n",
    "    obj[\"Project name\"] =  project_name\n",
    "    obj[\"Employess\"] = [emp_name]\n",
    "    obj[\"hours\"] = req_time\n",
    "    obj[\"Skills\"] = skill\n",
    "    emp[emp_name][\"hours\"] = emp[emp_name][\"hours\"] - req_time\n",
    "    current_projects.append(obj)\n",
    "    print(\"Project assigned successfully!\")\n",
    "    print(current_projects)\n",
    "\n",
    "def search_req(req, req_time, project_name):\n",
    "    print(req)\n",
    "    for skill in req:\n",
    "        for x in emp:\n",
    "            skills = emp[x][\"Skils\"]\n",
    "            if skill in skills:\n",
    "                print(skill, \"FOUND in \", x )\n",
    "                av = emp[x][\"hours\"]\n",
    "                if av > 0:\n",
    "                    if av >= req_time:\n",
    "                        print(x , \"is available\")\n",
    "                        assign_project(project_name,x,req_time,skill)\n",
    "                        #assign a project\n",
    "                    else:\n",
    "                        print(x , \"is not available, he can spend only \", av, \"hours\")\n",
    "                else:\n",
    "                    print(\"But\" ,x , \"is not available\")\n",
    "\n"
   ]
  },
  {
   "cell_type": "code",
   "execution_count": 48,
   "metadata": {},
   "outputs": [
    {
     "output_type": "execute_result",
     "data": {
      "text/plain": [
       "[]"
      ]
     },
     "metadata": {},
     "execution_count": 48
    }
   ],
   "source": [
    "current_projects"
   ]
  },
  {
   "cell_type": "code",
   "execution_count": 49,
   "metadata": {},
   "outputs": [
    {
     "output_type": "stream",
     "name": "stdout",
     "text": [
      "['Python', 'Html', 'MySQL']\nPython FOUND in  Adam\nAdam is available\nProject assigned successfully!\n[{'Project name': 'Meditech', 'Employess': ['Adam'], 'hours': 4, 'Skills': 'Python'}]\nPython FOUND in  David\nDavid is available\nProject assigned successfully!\n[{'Project name': 'Meditech', 'Employess': ['Adam'], 'hours': 4, 'Skills': 'Python'}, {'Project name': 'Meditech', 'Employess': ['David'], 'hours': 4, 'Skills': 'Python'}]\nHtml FOUND in  Sam\nSam is available\nProject assigned successfully!\n[{'Project name': 'Meditech', 'Employess': ['Adam'], 'hours': 4, 'Skills': 'Python'}, {'Project name': 'Meditech', 'Employess': ['David'], 'hours': 4, 'Skills': 'Python'}, {'Project name': 'Meditech', 'Employess': ['Sam'], 'hours': 4, 'Skills': 'Html'}]\nMySQL FOUND in  David\nDavid is available\nProject assigned successfully!\n[{'Project name': 'Meditech', 'Employess': ['Adam'], 'hours': 4, 'Skills': 'Python'}, {'Project name': 'Meditech', 'Employess': ['David'], 'hours': 4, 'Skills': 'Python'}, {'Project name': 'Meditech', 'Employess': ['Sam'], 'hours': 4, 'Skills': 'Html'}, {'Project name': 'Meditech', 'Employess': ['David'], 'hours': 4, 'Skills': 'MySQL'}]\n"
     ]
    }
   ],
   "source": [
    "req = [\"Python\", \"Html\", \"MySQL\"]\n",
    "search_req(req, 4, \"Meditech\")"
   ]
  },
  {
   "cell_type": "code",
   "execution_count": 50,
   "metadata": {},
   "outputs": [
    {
     "output_type": "stream",
     "name": "stdout",
     "text": [
      "{\n    \"Project name\": \"Meditech\",\n    \"Employess\": [\n        \"Adam\"\n    ],\n    \"hours\": 4,\n    \"Skills\": \"Python\"\n}\n{\n    \"Project name\": \"Meditech\",\n    \"Employess\": [\n        \"David\"\n    ],\n    \"hours\": 4,\n    \"Skills\": \"Python\"\n}\n{\n    \"Project name\": \"Meditech\",\n    \"Employess\": [\n        \"Sam\"\n    ],\n    \"hours\": 4,\n    \"Skills\": \"Html\"\n}\n{\n    \"Project name\": \"Meditech\",\n    \"Employess\": [\n        \"David\"\n    ],\n    \"hours\": 4,\n    \"Skills\": \"MySQL\"\n}\n"
     ]
    }
   ],
   "source": [
    "import json \n",
    "\n",
    "for x in current_projects:\n",
    "    print(json.dumps(x , indent=4))"
   ]
  },
  {
   "cell_type": "code",
   "execution_count": 51,
   "metadata": {},
   "outputs": [
    {
     "output_type": "execute_result",
     "data": {
      "text/plain": [
       "{'Adam': {'Skils': ['Python', 'Flask'], 'hours': 4},\n",
       " 'Sam': {'Skils': ['Html', 'Css'], 'hours': 4},\n",
       " 'David': {'Skils': ['MySQL', 'Python'], 'hours': 0}}"
      ]
     },
     "metadata": {},
     "execution_count": 51
    }
   ],
   "source": [
    "emp"
   ]
  },
  {
   "cell_type": "code",
   "execution_count": null,
   "metadata": {},
   "outputs": [],
   "source": [
    "#remove satisfied req\n",
    "#add emps in same project"
   ]
  }
 ]
}